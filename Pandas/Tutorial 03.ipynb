{
 "cells": [
  {
   "cell_type": "code",
   "execution_count": 2,
   "id": "3dc69e07-1ead-4b2a-888f-548afb7159ec",
   "metadata": {},
   "outputs": [],
   "source": [
    "import numpy as np\n",
    "import pandas as pd"
   ]
  },
  {
   "cell_type": "code",
   "execution_count": 3,
   "id": "73ea1879-77f9-49bb-accc-1fe196ab2df4",
   "metadata": {},
   "outputs": [],
   "source": [
    "grades_math_info = pd.read_excel('cs_exam_grades_2005.xlsx', sheet_name = 'МатИнфо')"
   ]
  },
  {
   "cell_type": "markdown",
   "id": "81522a0e-adc0-4fd9-9001-62300d38b2e7",
   "metadata": {},
   "source": [
    "## DataFrame attributes"
   ]
  },
  {
   "cell_type": "markdown",
   "id": "fa8e9040-2a6c-4e02-8846-526bee68326b",
   "metadata": {},
   "source": [
    "### Indices (rows)"
   ]
  },
  {
   "cell_type": "code",
   "execution_count": 7,
   "id": "1ed2e87f-8d7e-4385-a0d7-e946bcfebef7",
   "metadata": {},
   "outputs": [
    {
     "data": {
      "text/plain": [
       "RangeIndex(start=0, stop=98, step=1)"
      ]
     },
     "execution_count": 7,
     "metadata": {},
     "output_type": "execute_result"
    }
   ],
   "source": [
    "grades_math_info.index"
   ]
  },
  {
   "cell_type": "markdown",
   "id": "e36d5bd8-1b28-42ef-957d-7cf333cdd7a0",
   "metadata": {},
   "source": [
    "### Columns"
   ]
  },
  {
   "cell_type": "code",
   "execution_count": 8,
   "id": "8ec819fd-631c-4915-828b-2a9f78c0220e",
   "metadata": {},
   "outputs": [
    {
     "data": {
      "text/plain": [
       "Index(['№', 'Код ОО', 'Класс', 'Фамилия', 'Имя', 'Отчество',\n",
       "       'Задания с кратким ответом', 'Первичный балл', 'Тестовый балл'],\n",
       "      dtype='object')"
      ]
     },
     "execution_count": 8,
     "metadata": {},
     "output_type": "execute_result"
    }
   ],
   "source": [
    "grades_math_info.columns"
   ]
  },
  {
   "cell_type": "markdown",
   "id": "650f3956-3c46-4eb6-b344-68c2dd9336ce",
   "metadata": {},
   "source": [
    "### Indexing indices and columns"
   ]
  },
  {
   "cell_type": "code",
   "execution_count": 18,
   "id": "7e9657d7-1f81-4375-b4e9-80e524fdd099",
   "metadata": {},
   "outputs": [
    {
     "data": {
      "text/plain": [
       "RangeIndex(start=0, stop=98, step=1)"
      ]
     },
     "execution_count": 18,
     "metadata": {},
     "output_type": "execute_result"
    }
   ],
   "source": [
    "grades_math_info.index"
   ]
  },
  {
   "cell_type": "code",
   "execution_count": 19,
   "id": "73988164-327f-4f9b-870d-3504f1f2f118",
   "metadata": {},
   "outputs": [
    {
     "data": {
      "text/plain": [
       "Index(['№', 'Код ОО', 'Класс', 'Фамилия', 'Имя', 'Отчество',\n",
       "       'Задания с кратким ответом', 'Первичный балл', 'Тестовый балл'],\n",
       "      dtype='object')"
      ]
     },
     "execution_count": 19,
     "metadata": {},
     "output_type": "execute_result"
    }
   ],
   "source": [
    "grades_math_info.columns"
   ]
  },
  {
   "cell_type": "code",
   "execution_count": 20,
   "id": "2ea825c7-32ff-4c37-8c9c-7b94cfcb1f7e",
   "metadata": {},
   "outputs": [
    {
     "data": {
      "text/plain": [
       "4"
      ]
     },
     "execution_count": 20,
     "metadata": {},
     "output_type": "execute_result"
    }
   ],
   "source": [
    "grades_math_info.index[4]"
   ]
  },
  {
   "cell_type": "code",
   "execution_count": 21,
   "id": "e8baaa81-d05a-4cf5-80d8-8e0b207f409b",
   "metadata": {},
   "outputs": [
    {
     "data": {
      "text/plain": [
       "'Имя'"
      ]
     },
     "execution_count": 21,
     "metadata": {},
     "output_type": "execute_result"
    }
   ],
   "source": [
    "grades_math_info.columns[4]"
   ]
  },
  {
   "cell_type": "markdown",
   "id": "0ebfbd45-8b19-4cdb-93d9-8774e5703495",
   "metadata": {},
   "source": [
    "### Values in the Data Fame"
   ]
  },
  {
   "cell_type": "code",
   "execution_count": 22,
   "id": "046dbe59-3510-44fc-afa1-cb0553aa0b4c",
   "metadata": {},
   "outputs": [
    {
     "data": {
      "text/plain": [
       "array([[1, 13984, '1И3', 'Акопян', 'Артём', 'Хачатурович',\n",
       "        '++-++++++---+++++-+++++--00', 18, 72],\n",
       "       [2, 13984, '1И2', 'Рысенков', 'Андрей', 'Александрович',\n",
       "        '+++++-+--+-++++++-+++++--02', 20, 85],\n",
       "       [3, 13984, '1И4', 'Петренко', 'Игорь', 'Алексеевич',\n",
       "        '+-++++-+-+-++++++-+++-+--00', 17, 70],\n",
       "       [4, 13984, '1И3', 'Пашкова', 'Екатерина', 'Олеговна',\n",
       "        '+++++++--+-+-+++-++++++-+00', 19, 75],\n",
       "       [5, 13984, '1И4', 'Панарина', 'Полина', 'Евгеньевна',\n",
       "        '+++++-+++++++++++++++-++-02', 24, 88],\n",
       "       [6, 13984, '1И2', 'Олейник', 'София', 'Павловна',\n",
       "        '+++++++--+-++++++----++--00', 16, 67],\n",
       "       [7, 13984, '1И2', 'Нефедов', 'Никита', 'Александрович',\n",
       "        '++++-++++++++++-++-+++++-22', 25, 90],\n",
       "       [8, 13984, '1И5', 'Надрус', 'Кирилл', 'Юриевич',\n",
       "        '++-++++++++++++++++++++++00', 24, 88],\n",
       "       [9, 13984, '1И2', 'Митькин', 'Арсений', 'Владимирович',\n",
       "        '++-+--------------++-----00', 5, 46],\n",
       "       [10, 13984, '1И2', 'Метелкин', 'Артём', 'Эдуардович',\n",
       "        '++-+++++---+-++++--++++-+00', 17, 70]], dtype=object)"
      ]
     },
     "execution_count": 22,
     "metadata": {},
     "output_type": "execute_result"
    }
   ],
   "source": [
    "grades_math_info.values[:10]"
   ]
  },
  {
   "cell_type": "code",
   "execution_count": 23,
   "id": "26d9fda1-5dc7-4cf8-a96e-dcb5f4e3cdab",
   "metadata": {},
   "outputs": [
    {
     "data": {
      "text/plain": [
       "numpy.ndarray"
      ]
     },
     "execution_count": 23,
     "metadata": {},
     "output_type": "execute_result"
    }
   ],
   "source": [
    "type(grades_math_info.values)"
   ]
  },
  {
   "cell_type": "code",
   "execution_count": 25,
   "id": "bb36f6bd-22cb-487f-9434-a4454c91375f",
   "metadata": {},
   "outputs": [
    {
     "data": {
      "text/plain": [
       "array([[1, 13984, '1И3', 'Акопян', 'Артём', 'Хачатурович',\n",
       "        '++-++++++---+++++-+++++--00', 18, 72],\n",
       "       [2, 13984, '1И2', 'Рысенков', 'Андрей', 'Александрович',\n",
       "        '+++++-+--+-++++++-+++++--02', 20, 85],\n",
       "       [3, 13984, '1И4', 'Петренко', 'Игорь', 'Алексеевич',\n",
       "        '+-++++-+-+-++++++-+++-+--00', 17, 70],\n",
       "       [4, 13984, '1И3', 'Пашкова', 'Екатерина', 'Олеговна',\n",
       "        '+++++++--+-+-+++-++++++-+00', 19, 75],\n",
       "       [5, 13984, '1И4', 'Панарина', 'Полина', 'Евгеньевна',\n",
       "        '+++++-+++++++++++++++-++-02', 24, 88],\n",
       "       [6, 13984, '1И2', 'Олейник', 'София', 'Павловна',\n",
       "        '+++++++--+-++++++----++--00', 16, 67],\n",
       "       [7, 13984, '1И2', 'Нефедов', 'Никита', 'Александрович',\n",
       "        '++++-++++++++++-++-+++++-22', 25, 90],\n",
       "       [8, 13984, '1И5', 'Надрус', 'Кирилл', 'Юриевич',\n",
       "        '++-++++++++++++++++++++++00', 24, 88],\n",
       "       [9, 13984, '1И2', 'Митькин', 'Арсений', 'Владимирович',\n",
       "        '++-+--------------++-----00', 5, 46],\n",
       "       [10, 13984, '1И2', 'Метелкин', 'Артём', 'Эдуардович',\n",
       "        '++-+++++---+-++++--++++-+00', 17, 70]], dtype=object)"
      ]
     },
     "execution_count": 25,
     "metadata": {},
     "output_type": "execute_result"
    }
   ],
   "source": [
    "grades_math_info.to_numpy()[:10]"
   ]
  },
  {
   "cell_type": "markdown",
   "id": "d3ede4f8-c54a-4129-895e-222d94d28825",
   "metadata": {},
   "source": [
    "### Types of Data"
   ]
  },
  {
   "cell_type": "code",
   "execution_count": 27,
   "id": "66b8806b-5df2-4c04-8e1f-a4ea515ef765",
   "metadata": {},
   "outputs": [
    {
     "data": {
      "text/plain": [
       "№                             int64\n",
       "Код ОО                        int64\n",
       "Класс                        object\n",
       "Фамилия                      object\n",
       "Имя                          object\n",
       "Отчество                     object\n",
       "Задания с кратким ответом    object\n",
       "Первичный балл                int64\n",
       "Тестовый балл                 int64\n",
       "dtype: object"
      ]
     },
     "execution_count": 27,
     "metadata": {},
     "output_type": "execute_result"
    }
   ],
   "source": [
    "grades_math_info.dtypes"
   ]
  },
  {
   "cell_type": "markdown",
   "id": "0e115a03-e272-4543-9f81-4d0690da2e1d",
   "metadata": {},
   "source": [
    "### Dimensions"
   ]
  },
  {
   "cell_type": "code",
   "execution_count": 33,
   "id": "63d3d0e9-f4a4-428e-9348-907aa3628ae4",
   "metadata": {},
   "outputs": [
    {
     "data": {
      "text/plain": [
       "2"
      ]
     },
     "execution_count": 33,
     "metadata": {},
     "output_type": "execute_result"
    }
   ],
   "source": [
    "grades_math_info.ndim"
   ]
  },
  {
   "cell_type": "markdown",
   "id": "424329e6-e34d-49c3-8baa-20e7dad3b926",
   "metadata": {},
   "source": [
    "### Size (the total number of cells)"
   ]
  },
  {
   "cell_type": "code",
   "execution_count": 36,
   "id": "046e967d-8f7d-4d86-af39-a01a3b8af8c0",
   "metadata": {},
   "outputs": [
    {
     "data": {
      "text/plain": [
       "882"
      ]
     },
     "execution_count": 36,
     "metadata": {},
     "output_type": "execute_result"
    }
   ],
   "source": [
    "grades_math_info.size"
   ]
  },
  {
   "cell_type": "markdown",
   "id": "482cd1d4-1539-4879-b782-3acff33c97cf",
   "metadata": {},
   "source": [
    "### Shape "
   ]
  },
  {
   "cell_type": "code",
   "execution_count": 37,
   "id": "c4234703-6f3c-4707-9c43-5206a65bef68",
   "metadata": {},
   "outputs": [
    {
     "data": {
      "text/plain": [
       "(98, 9)"
      ]
     },
     "execution_count": 37,
     "metadata": {},
     "output_type": "execute_result"
    }
   ],
   "source": [
    "grades_math_info.shape"
   ]
  },
  {
   "cell_type": "code",
   "execution_count": 38,
   "id": "4cffb3ed-5068-4e5e-9099-41c1bef48191",
   "metadata": {},
   "outputs": [
    {
     "data": {
      "text/plain": [
       "882"
      ]
     },
     "execution_count": 38,
     "metadata": {},
     "output_type": "execute_result"
    }
   ],
   "source": [
    "grades_math_info.shape[0] * grades_math_info.shape[1]"
   ]
  }
 ],
 "metadata": {
  "kernelspec": {
   "display_name": "Python 3 (ipykernel)",
   "language": "python",
   "name": "python3"
  },
  "language_info": {
   "codemirror_mode": {
    "name": "ipython",
    "version": 3
   },
   "file_extension": ".py",
   "mimetype": "text/x-python",
   "name": "python",
   "nbconvert_exporter": "python",
   "pygments_lexer": "ipython3",
   "version": "3.13.2"
  }
 },
 "nbformat": 4,
 "nbformat_minor": 5
}
