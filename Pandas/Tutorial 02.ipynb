{
 "cells": [
  {
   "cell_type": "code",
   "execution_count": 61,
   "id": "e2f7c75b-fd44-4349-a43f-e35627036f0b",
   "metadata": {},
   "outputs": [],
   "source": [
    "import numpy as np\n",
    "import pandas as pd"
   ]
  },
  {
   "cell_type": "markdown",
   "id": "5c5b05fa-b230-4664-8064-b4c79b2e9538",
   "metadata": {},
   "source": [
    "## More ways to create a DataFrame"
   ]
  },
  {
   "cell_type": "code",
   "execution_count": 62,
   "id": "39df54c0-b76d-4707-b4ef-9195e9a059fb",
   "metadata": {},
   "outputs": [],
   "source": [
    "data_dict = {'x': [1, 2, 3], 'y': np.array([4, 5, 6]), 'z': 100}"
   ]
  },
  {
   "cell_type": "code",
   "execution_count": 63,
   "id": "39d74ec0-c4cc-49ec-b250-7fff42d2ab59",
   "metadata": {},
   "outputs": [
    {
     "data": {
      "text/html": [
       "<div>\n",
       "<style scoped>\n",
       "    .dataframe tbody tr th:only-of-type {\n",
       "        vertical-align: middle;\n",
       "    }\n",
       "\n",
       "    .dataframe tbody tr th {\n",
       "        vertical-align: top;\n",
       "    }\n",
       "\n",
       "    .dataframe thead th {\n",
       "        text-align: right;\n",
       "    }\n",
       "</style>\n",
       "<table border=\"1\" class=\"dataframe\">\n",
       "  <thead>\n",
       "    <tr style=\"text-align: right;\">\n",
       "      <th></th>\n",
       "      <th>z</th>\n",
       "      <th>y</th>\n",
       "      <th>x</th>\n",
       "    </tr>\n",
       "  </thead>\n",
       "  <tbody>\n",
       "    <tr>\n",
       "      <th>100</th>\n",
       "      <td>100</td>\n",
       "      <td>4</td>\n",
       "      <td>1</td>\n",
       "    </tr>\n",
       "    <tr>\n",
       "      <th>200</th>\n",
       "      <td>100</td>\n",
       "      <td>5</td>\n",
       "      <td>2</td>\n",
       "    </tr>\n",
       "    <tr>\n",
       "      <th>300</th>\n",
       "      <td>100</td>\n",
       "      <td>6</td>\n",
       "      <td>3</td>\n",
       "    </tr>\n",
       "  </tbody>\n",
       "</table>\n",
       "</div>"
      ],
      "text/plain": [
       "       z  y  x\n",
       "100  100  4  1\n",
       "200  100  5  2\n",
       "300  100  6  3"
      ]
     },
     "execution_count": 63,
     "metadata": {},
     "output_type": "execute_result"
    }
   ],
   "source": [
    "# various elements, differnt order of columns\n",
    "pd.DataFrame(data_dict, index=[100, 200, 300], columns=['z', 'y', 'x'])"
   ]
  },
  {
   "cell_type": "code",
   "execution_count": 67,
   "id": "52562470-29af-4423-8bc3-3f1871fe1221",
   "metadata": {},
   "outputs": [
    {
     "data": {
      "text/html": [
       "<div>\n",
       "<style scoped>\n",
       "    .dataframe tbody tr th:only-of-type {\n",
       "        vertical-align: middle;\n",
       "    }\n",
       "\n",
       "    .dataframe tbody tr th {\n",
       "        vertical-align: top;\n",
       "    }\n",
       "\n",
       "    .dataframe thead th {\n",
       "        text-align: right;\n",
       "    }\n",
       "</style>\n",
       "<table border=\"1\" class=\"dataframe\">\n",
       "  <thead>\n",
       "    <tr style=\"text-align: right;\">\n",
       "      <th></th>\n",
       "      <th>x</th>\n",
       "      <th>y</th>\n",
       "      <th>z</th>\n",
       "    </tr>\n",
       "  </thead>\n",
       "  <tbody>\n",
       "    <tr>\n",
       "      <th>0</th>\n",
       "      <td>1</td>\n",
       "      <td>2</td>\n",
       "      <td>100</td>\n",
       "    </tr>\n",
       "    <tr>\n",
       "      <th>1</th>\n",
       "      <td>2</td>\n",
       "      <td>4</td>\n",
       "      <td>100</td>\n",
       "    </tr>\n",
       "    <tr>\n",
       "      <th>2</th>\n",
       "      <td>33</td>\n",
       "      <td>8</td>\n",
       "      <td>100</td>\n",
       "    </tr>\n",
       "  </tbody>\n",
       "</table>\n",
       "</div>"
      ],
      "text/plain": [
       "    x  y    z\n",
       "0   1  2  100\n",
       "1   2  4  100\n",
       "2  33  8  100"
      ]
     },
     "execution_count": 67,
     "metadata": {},
     "output_type": "execute_result"
    }
   ],
   "source": [
    "# creating a data frame from a list of dictionaries\n",
    "data_dict_2 = [{\"x\": 1, \"y\": 2, \"z\": 100}, {\"x\": 2, \"y\": 4, \"z\": 100}, {\"x\": 33, \"y\": 8, \"z\": 100}]\n",
    "pd.DataFrame(data_dict_2)"
   ]
  },
  {
   "cell_type": "code",
   "execution_count": 68,
   "id": "9fa73907-8e6f-4f11-9567-d0cc78285269",
   "metadata": {},
   "outputs": [
    {
     "data": {
      "text/html": [
       "<div>\n",
       "<style scoped>\n",
       "    .dataframe tbody tr th:only-of-type {\n",
       "        vertical-align: middle;\n",
       "    }\n",
       "\n",
       "    .dataframe tbody tr th {\n",
       "        vertical-align: top;\n",
       "    }\n",
       "\n",
       "    .dataframe thead th {\n",
       "        text-align: right;\n",
       "    }\n",
       "</style>\n",
       "<table border=\"1\" class=\"dataframe\">\n",
       "  <thead>\n",
       "    <tr style=\"text-align: right;\">\n",
       "      <th></th>\n",
       "      <th>x</th>\n",
       "      <th>y</th>\n",
       "      <th>z</th>\n",
       "    </tr>\n",
       "  </thead>\n",
       "  <tbody>\n",
       "    <tr>\n",
       "      <th>a</th>\n",
       "      <td>1</td>\n",
       "      <td>2</td>\n",
       "      <td>100</td>\n",
       "    </tr>\n",
       "    <tr>\n",
       "      <th>b</th>\n",
       "      <td>2</td>\n",
       "      <td>4</td>\n",
       "      <td>100</td>\n",
       "    </tr>\n",
       "    <tr>\n",
       "      <th>c</th>\n",
       "      <td>33</td>\n",
       "      <td>8</td>\n",
       "      <td>100</td>\n",
       "    </tr>\n",
       "  </tbody>\n",
       "</table>\n",
       "</div>"
      ],
      "text/plain": [
       "    x  y    z\n",
       "a   1  2  100\n",
       "b   2  4  100\n",
       "c  33  8  100"
      ]
     },
     "execution_count": 68,
     "metadata": {},
     "output_type": "execute_result"
    }
   ],
   "source": [
    "data_dict_2 = [{\"x\": 1, \"y\": 2, \"z\": 100}, {\"x\": 2, \"y\": 4, \"z\": 100}, {\"x\": 33, \"y\": 8, \"z\": 100}]\n",
    "frame_2 = pd.DataFrame(data_dict_2, index=['a', 'b', 'c'])\n",
    "frame_2"
   ]
  },
  {
   "cell_type": "code",
   "execution_count": 69,
   "id": "39679dd5-48ae-4f8c-a296-d0ae574cb6f8",
   "metadata": {},
   "outputs": [
    {
     "data": {
      "text/plain": [
       "a     1\n",
       "b     2\n",
       "c    33\n",
       "Name: x, dtype: int64"
      ]
     },
     "execution_count": 69,
     "metadata": {},
     "output_type": "execute_result"
    }
   ],
   "source": [
    "frame_2['x']"
   ]
  },
  {
   "cell_type": "code",
   "execution_count": 70,
   "id": "23e0bbf1-ce78-416e-b805-45b7ff2bb439",
   "metadata": {},
   "outputs": [
    {
     "data": {
      "text/plain": [
       "x      1\n",
       "y      2\n",
       "z    100\n",
       "Name: a, dtype: int64"
      ]
     },
     "execution_count": 70,
     "metadata": {},
     "output_type": "execute_result"
    }
   ],
   "source": [
    "frame_2.loc['a']"
   ]
  },
  {
   "cell_type": "code",
   "execution_count": 71,
   "id": "952a457a-a5e3-43a7-b53e-eceded5d8847",
   "metadata": {},
   "outputs": [
    {
     "data": {
      "text/html": [
       "<div>\n",
       "<style scoped>\n",
       "    .dataframe tbody tr th:only-of-type {\n",
       "        vertical-align: middle;\n",
       "    }\n",
       "\n",
       "    .dataframe tbody tr th {\n",
       "        vertical-align: top;\n",
       "    }\n",
       "\n",
       "    .dataframe thead th {\n",
       "        text-align: right;\n",
       "    }\n",
       "</style>\n",
       "<table border=\"1\" class=\"dataframe\">\n",
       "  <thead>\n",
       "    <tr style=\"text-align: right;\">\n",
       "      <th></th>\n",
       "      <th>x</th>\n",
       "      <th>y</th>\n",
       "    </tr>\n",
       "  </thead>\n",
       "  <tbody>\n",
       "    <tr>\n",
       "      <th>a</th>\n",
       "      <td>1</td>\n",
       "      <td>2</td>\n",
       "    </tr>\n",
       "    <tr>\n",
       "      <th>c</th>\n",
       "      <td>33</td>\n",
       "      <td>8</td>\n",
       "    </tr>\n",
       "  </tbody>\n",
       "</table>\n",
       "</div>"
      ],
      "text/plain": [
       "    x  y\n",
       "a   1  2\n",
       "c  33  8"
      ]
     },
     "execution_count": 71,
     "metadata": {},
     "output_type": "execute_result"
    }
   ],
   "source": [
    "frame_2[['x', 'y']].loc[['a', 'c']]"
   ]
  },
  {
   "cell_type": "code",
   "execution_count": 72,
   "id": "4e149fe8-3973-49f2-9a87-52d974be4bbb",
   "metadata": {},
   "outputs": [
    {
     "data": {
      "text/html": [
       "<div>\n",
       "<style scoped>\n",
       "    .dataframe tbody tr th:only-of-type {\n",
       "        vertical-align: middle;\n",
       "    }\n",
       "\n",
       "    .dataframe tbody tr th {\n",
       "        vertical-align: top;\n",
       "    }\n",
       "\n",
       "    .dataframe thead th {\n",
       "        text-align: right;\n",
       "    }\n",
       "</style>\n",
       "<table border=\"1\" class=\"dataframe\">\n",
       "  <thead>\n",
       "    <tr style=\"text-align: right;\">\n",
       "      <th></th>\n",
       "      <th>x</th>\n",
       "      <th>y</th>\n",
       "      <th>z</th>\n",
       "    </tr>\n",
       "  </thead>\n",
       "  <tbody>\n",
       "    <tr>\n",
       "      <th>a</th>\n",
       "      <td>1</td>\n",
       "      <td>2</td>\n",
       "      <td>100</td>\n",
       "    </tr>\n",
       "    <tr>\n",
       "      <th>b</th>\n",
       "      <td>2</td>\n",
       "      <td>4</td>\n",
       "      <td>100</td>\n",
       "    </tr>\n",
       "    <tr>\n",
       "      <th>c</th>\n",
       "      <td>3</td>\n",
       "      <td>8</td>\n",
       "      <td>100</td>\n",
       "    </tr>\n",
       "  </tbody>\n",
       "</table>\n",
       "</div>"
      ],
      "text/plain": [
       "   x  y    z\n",
       "a  1  2  100\n",
       "b  2  4  100\n",
       "c  3  8  100"
      ]
     },
     "execution_count": 72,
     "metadata": {},
     "output_type": "execute_result"
    }
   ],
   "source": [
    "# creating a data frame from a list\n",
    "frame_3 = pd.DataFrame([[1, 2, 100], [2, 4, 100], [3, 8, 100]], index=['a', 'b', 'c'], columns=['x', 'y', 'z'])\n",
    "frame_3"
   ]
  },
  {
   "cell_type": "code",
   "execution_count": 73,
   "id": "13ae780a-6b8a-428d-a36c-647d729fc6d7",
   "metadata": {},
   "outputs": [
    {
     "data": {
      "text/html": [
       "<div>\n",
       "<style scoped>\n",
       "    .dataframe tbody tr th:only-of-type {\n",
       "        vertical-align: middle;\n",
       "    }\n",
       "\n",
       "    .dataframe tbody tr th {\n",
       "        vertical-align: top;\n",
       "    }\n",
       "\n",
       "    .dataframe thead th {\n",
       "        text-align: right;\n",
       "    }\n",
       "</style>\n",
       "<table border=\"1\" class=\"dataframe\">\n",
       "  <thead>\n",
       "    <tr style=\"text-align: right;\">\n",
       "      <th></th>\n",
       "      <th>y</th>\n",
       "      <th>x</th>\n",
       "    </tr>\n",
       "  </thead>\n",
       "  <tbody>\n",
       "    <tr>\n",
       "      <th>b</th>\n",
       "      <td>4</td>\n",
       "      <td>2</td>\n",
       "    </tr>\n",
       "    <tr>\n",
       "      <th>a</th>\n",
       "      <td>2</td>\n",
       "      <td>1</td>\n",
       "    </tr>\n",
       "  </tbody>\n",
       "</table>\n",
       "</div>"
      ],
      "text/plain": [
       "   y  x\n",
       "b  4  2\n",
       "a  2  1"
      ]
     },
     "execution_count": 73,
     "metadata": {},
     "output_type": "execute_result"
    }
   ],
   "source": [
    "frame_3[['y', 'x']].loc[['b', 'a']]"
   ]
  },
  {
   "cell_type": "code",
   "execution_count": 74,
   "id": "5ad268ab-8a26-4485-b31a-aaed959cbff2",
   "metadata": {},
   "outputs": [
    {
     "data": {
      "text/html": [
       "<div>\n",
       "<style scoped>\n",
       "    .dataframe tbody tr th:only-of-type {\n",
       "        vertical-align: middle;\n",
       "    }\n",
       "\n",
       "    .dataframe tbody tr th {\n",
       "        vertical-align: top;\n",
       "    }\n",
       "\n",
       "    .dataframe thead th {\n",
       "        text-align: right;\n",
       "    }\n",
       "</style>\n",
       "<table border=\"1\" class=\"dataframe\">\n",
       "  <thead>\n",
       "    <tr style=\"text-align: right;\">\n",
       "      <th></th>\n",
       "      <th>0</th>\n",
       "      <th>1</th>\n",
       "      <th>2</th>\n",
       "    </tr>\n",
       "  </thead>\n",
       "  <tbody>\n",
       "    <tr>\n",
       "      <th>0</th>\n",
       "      <td>1</td>\n",
       "      <td>2</td>\n",
       "      <td>100</td>\n",
       "    </tr>\n",
       "    <tr>\n",
       "      <th>1</th>\n",
       "      <td>2</td>\n",
       "      <td>4</td>\n",
       "      <td>100</td>\n",
       "    </tr>\n",
       "    <tr>\n",
       "      <th>2</th>\n",
       "      <td>3</td>\n",
       "      <td>8</td>\n",
       "      <td>100</td>\n",
       "    </tr>\n",
       "  </tbody>\n",
       "</table>\n",
       "</div>"
      ],
      "text/plain": [
       "   0  1    2\n",
       "0  1  2  100\n",
       "1  2  4  100\n",
       "2  3  8  100"
      ]
     },
     "execution_count": 74,
     "metadata": {},
     "output_type": "execute_result"
    }
   ],
   "source": [
    "# creating a data frame from a numpy array\n",
    "arr = np.array([[1, 2, 100], [2, 4, 100], [3, 8, 100]])\n",
    "frame_4 = pd.DataFrame(arr)\n",
    "frame_4"
   ]
  },
  {
   "cell_type": "code",
   "execution_count": 75,
   "id": "d20909cb-c18e-4243-a50e-90f45e1ca823",
   "metadata": {},
   "outputs": [
    {
     "data": {
      "text/plain": [
       "array([[  1,   2, 100],\n",
       "       [  2,   4, 100],\n",
       "       [  3,   8, 300]])"
      ]
     },
     "execution_count": 75,
     "metadata": {},
     "output_type": "execute_result"
    }
   ],
   "source": [
    "arr[2, 2] = 300\n",
    "arr"
   ]
  },
  {
   "cell_type": "code",
   "execution_count": 76,
   "id": "fe196461-b59e-4fa3-b2d9-d6228a0a6905",
   "metadata": {},
   "outputs": [
    {
     "data": {
      "text/html": [
       "<div>\n",
       "<style scoped>\n",
       "    .dataframe tbody tr th:only-of-type {\n",
       "        vertical-align: middle;\n",
       "    }\n",
       "\n",
       "    .dataframe tbody tr th {\n",
       "        vertical-align: top;\n",
       "    }\n",
       "\n",
       "    .dataframe thead th {\n",
       "        text-align: right;\n",
       "    }\n",
       "</style>\n",
       "<table border=\"1\" class=\"dataframe\">\n",
       "  <thead>\n",
       "    <tr style=\"text-align: right;\">\n",
       "      <th></th>\n",
       "      <th>0</th>\n",
       "      <th>1</th>\n",
       "      <th>2</th>\n",
       "    </tr>\n",
       "  </thead>\n",
       "  <tbody>\n",
       "    <tr>\n",
       "      <th>0</th>\n",
       "      <td>1</td>\n",
       "      <td>2</td>\n",
       "      <td>100</td>\n",
       "    </tr>\n",
       "    <tr>\n",
       "      <th>1</th>\n",
       "      <td>2</td>\n",
       "      <td>4</td>\n",
       "      <td>100</td>\n",
       "    </tr>\n",
       "    <tr>\n",
       "      <th>2</th>\n",
       "      <td>3</td>\n",
       "      <td>8</td>\n",
       "      <td>300</td>\n",
       "    </tr>\n",
       "  </tbody>\n",
       "</table>\n",
       "</div>"
      ],
      "text/plain": [
       "   0  1    2\n",
       "0  1  2  100\n",
       "1  2  4  100\n",
       "2  3  8  300"
      ]
     },
     "execution_count": 76,
     "metadata": {},
     "output_type": "execute_result"
    }
   ],
   "source": [
    "# changes in the numpy array led to changes in the frame\n",
    "frame_4"
   ]
  },
  {
   "cell_type": "code",
   "execution_count": 77,
   "id": "08c98292-80c3-441a-adec-bd10471f85e7",
   "metadata": {},
   "outputs": [
    {
     "data": {
      "text/html": [
       "<div>\n",
       "<style scoped>\n",
       "    .dataframe tbody tr th:only-of-type {\n",
       "        vertical-align: middle;\n",
       "    }\n",
       "\n",
       "    .dataframe tbody tr th {\n",
       "        vertical-align: top;\n",
       "    }\n",
       "\n",
       "    .dataframe thead th {\n",
       "        text-align: right;\n",
       "    }\n",
       "</style>\n",
       "<table border=\"1\" class=\"dataframe\">\n",
       "  <thead>\n",
       "    <tr style=\"text-align: right;\">\n",
       "      <th></th>\n",
       "      <th>0</th>\n",
       "      <th>1</th>\n",
       "      <th>2</th>\n",
       "    </tr>\n",
       "  </thead>\n",
       "  <tbody>\n",
       "    <tr>\n",
       "      <th>0</th>\n",
       "      <td>1</td>\n",
       "      <td>2</td>\n",
       "      <td>100</td>\n",
       "    </tr>\n",
       "    <tr>\n",
       "      <th>1</th>\n",
       "      <td>2</td>\n",
       "      <td>4</td>\n",
       "      <td>100</td>\n",
       "    </tr>\n",
       "    <tr>\n",
       "      <th>2</th>\n",
       "      <td>3</td>\n",
       "      <td>8</td>\n",
       "      <td>100</td>\n",
       "    </tr>\n",
       "  </tbody>\n",
       "</table>\n",
       "</div>"
      ],
      "text/plain": [
       "   0  1    2\n",
       "0  1  2  100\n",
       "1  2  4  100\n",
       "2  3  8  100"
      ]
     },
     "execution_count": 77,
     "metadata": {},
     "output_type": "execute_result"
    }
   ],
   "source": [
    "# avoiding the changes in the frame\n",
    "arr = np.array([[1, 2, 100], [2, 4, 100], [3, 8, 100]])\n",
    "frame_5 = pd.DataFrame(arr, copy=True)\n",
    "frame_5"
   ]
  },
  {
   "cell_type": "code",
   "execution_count": 78,
   "id": "5424f508-c484-4744-b375-a2105e084632",
   "metadata": {},
   "outputs": [
    {
     "data": {
      "text/html": [
       "<div>\n",
       "<style scoped>\n",
       "    .dataframe tbody tr th:only-of-type {\n",
       "        vertical-align: middle;\n",
       "    }\n",
       "\n",
       "    .dataframe tbody tr th {\n",
       "        vertical-align: top;\n",
       "    }\n",
       "\n",
       "    .dataframe thead th {\n",
       "        text-align: right;\n",
       "    }\n",
       "</style>\n",
       "<table border=\"1\" class=\"dataframe\">\n",
       "  <thead>\n",
       "    <tr style=\"text-align: right;\">\n",
       "      <th></th>\n",
       "      <th>0</th>\n",
       "      <th>1</th>\n",
       "      <th>2</th>\n",
       "    </tr>\n",
       "  </thead>\n",
       "  <tbody>\n",
       "    <tr>\n",
       "      <th>0</th>\n",
       "      <td>1</td>\n",
       "      <td>2</td>\n",
       "      <td>100</td>\n",
       "    </tr>\n",
       "    <tr>\n",
       "      <th>1</th>\n",
       "      <td>2</td>\n",
       "      <td>4</td>\n",
       "      <td>100</td>\n",
       "    </tr>\n",
       "    <tr>\n",
       "      <th>2</th>\n",
       "      <td>3</td>\n",
       "      <td>8</td>\n",
       "      <td>100</td>\n",
       "    </tr>\n",
       "  </tbody>\n",
       "</table>\n",
       "</div>"
      ],
      "text/plain": [
       "   0  1    2\n",
       "0  1  2  100\n",
       "1  2  4  100\n",
       "2  3  8  100"
      ]
     },
     "execution_count": 78,
     "metadata": {},
     "output_type": "execute_result"
    }
   ],
   "source": [
    "arr[2, 2] = 300\n",
    "frame_5"
   ]
  },
  {
   "cell_type": "markdown",
   "id": "fff10c7f-6401-434d-9589-12c34792cf6e",
   "metadata": {},
   "source": [
    "## Creating from an xlxs-file\n"
   ]
  },
  {
   "cell_type": "code",
   "execution_count": 85,
   "id": "96828b35-056e-463d-badb-33f05b40deba",
   "metadata": {},
   "outputs": [],
   "source": [
    "grades_math_info = pd.read_excel('cs_exam_grades_2005.xlsx', sheet_name = 'МатИнфо')"
   ]
  },
  {
   "cell_type": "code",
   "execution_count": 86,
   "id": "bcb72f3c-1eb5-40a1-bca7-6f0b9860609d",
   "metadata": {},
   "outputs": [
    {
     "data": {
      "text/html": [
       "<div>\n",
       "<style scoped>\n",
       "    .dataframe tbody tr th:only-of-type {\n",
       "        vertical-align: middle;\n",
       "    }\n",
       "\n",
       "    .dataframe tbody tr th {\n",
       "        vertical-align: top;\n",
       "    }\n",
       "\n",
       "    .dataframe thead th {\n",
       "        text-align: right;\n",
       "    }\n",
       "</style>\n",
       "<table border=\"1\" class=\"dataframe\">\n",
       "  <thead>\n",
       "    <tr style=\"text-align: right;\">\n",
       "      <th></th>\n",
       "      <th>№</th>\n",
       "      <th>Код ОО</th>\n",
       "      <th>Класс</th>\n",
       "      <th>Фамилия</th>\n",
       "      <th>Имя</th>\n",
       "      <th>Отчество</th>\n",
       "      <th>Задания с кратким ответом</th>\n",
       "      <th>Первичный балл</th>\n",
       "      <th>Тестовый балл</th>\n",
       "    </tr>\n",
       "  </thead>\n",
       "  <tbody>\n",
       "    <tr>\n",
       "      <th>0</th>\n",
       "      <td>1</td>\n",
       "      <td>13984</td>\n",
       "      <td>1И3</td>\n",
       "      <td>Акопян</td>\n",
       "      <td>Артём</td>\n",
       "      <td>Хачатурович</td>\n",
       "      <td>++-++++++---+++++-+++++--00</td>\n",
       "      <td>18</td>\n",
       "      <td>72</td>\n",
       "    </tr>\n",
       "    <tr>\n",
       "      <th>1</th>\n",
       "      <td>2</td>\n",
       "      <td>13984</td>\n",
       "      <td>1И2</td>\n",
       "      <td>Рысенков</td>\n",
       "      <td>Андрей</td>\n",
       "      <td>Александрович</td>\n",
       "      <td>+++++-+--+-++++++-+++++--02</td>\n",
       "      <td>20</td>\n",
       "      <td>85</td>\n",
       "    </tr>\n",
       "    <tr>\n",
       "      <th>2</th>\n",
       "      <td>3</td>\n",
       "      <td>13984</td>\n",
       "      <td>1И4</td>\n",
       "      <td>Петренко</td>\n",
       "      <td>Игорь</td>\n",
       "      <td>Алексеевич</td>\n",
       "      <td>+-++++-+-+-++++++-+++-+--00</td>\n",
       "      <td>17</td>\n",
       "      <td>70</td>\n",
       "    </tr>\n",
       "    <tr>\n",
       "      <th>3</th>\n",
       "      <td>4</td>\n",
       "      <td>13984</td>\n",
       "      <td>1И3</td>\n",
       "      <td>Пашкова</td>\n",
       "      <td>Екатерина</td>\n",
       "      <td>Олеговна</td>\n",
       "      <td>+++++++--+-+-+++-++++++-+00</td>\n",
       "      <td>19</td>\n",
       "      <td>75</td>\n",
       "    </tr>\n",
       "    <tr>\n",
       "      <th>4</th>\n",
       "      <td>5</td>\n",
       "      <td>13984</td>\n",
       "      <td>1И4</td>\n",
       "      <td>Панарина</td>\n",
       "      <td>Полина</td>\n",
       "      <td>Евгеньевна</td>\n",
       "      <td>+++++-+++++++++++++++-++-02</td>\n",
       "      <td>24</td>\n",
       "      <td>88</td>\n",
       "    </tr>\n",
       "    <tr>\n",
       "      <th>...</th>\n",
       "      <td>...</td>\n",
       "      <td>...</td>\n",
       "      <td>...</td>\n",
       "      <td>...</td>\n",
       "      <td>...</td>\n",
       "      <td>...</td>\n",
       "      <td>...</td>\n",
       "      <td>...</td>\n",
       "      <td>...</td>\n",
       "    </tr>\n",
       "    <tr>\n",
       "      <th>93</th>\n",
       "      <td>94</td>\n",
       "      <td>13984</td>\n",
       "      <td>1И2</td>\n",
       "      <td>Дятлов</td>\n",
       "      <td>Леонид</td>\n",
       "      <td>Константинович</td>\n",
       "      <td>+++++++-++++++++++++--+--22</td>\n",
       "      <td>24</td>\n",
       "      <td>88</td>\n",
       "    </tr>\n",
       "    <tr>\n",
       "      <th>94</th>\n",
       "      <td>95</td>\n",
       "      <td>13984</td>\n",
       "      <td>1И1</td>\n",
       "      <td>Дубинкин</td>\n",
       "      <td>Антон</td>\n",
       "      <td>Владимирович</td>\n",
       "      <td>+++++-+++++-++++--+++----00</td>\n",
       "      <td>17</td>\n",
       "      <td>70</td>\n",
       "    </tr>\n",
       "    <tr>\n",
       "      <th>95</th>\n",
       "      <td>96</td>\n",
       "      <td>13984</td>\n",
       "      <td>1И1</td>\n",
       "      <td>Амелин</td>\n",
       "      <td>Иван</td>\n",
       "      <td>Игоревич</td>\n",
       "      <td>+++++-++++-++++++++++++-+00</td>\n",
       "      <td>22</td>\n",
       "      <td>83</td>\n",
       "    </tr>\n",
       "    <tr>\n",
       "      <th>96</th>\n",
       "      <td>97</td>\n",
       "      <td>13984</td>\n",
       "      <td>1И1</td>\n",
       "      <td>Романовский</td>\n",
       "      <td>Максим</td>\n",
       "      <td>Алексеевич</td>\n",
       "      <td>++++++++-+---+++-++-+-+--02</td>\n",
       "      <td>18</td>\n",
       "      <td>72</td>\n",
       "    </tr>\n",
       "    <tr>\n",
       "      <th>97</th>\n",
       "      <td>98</td>\n",
       "      <td>13984</td>\n",
       "      <td>1И3</td>\n",
       "      <td>Ходосевич</td>\n",
       "      <td>Иван</td>\n",
       "      <td>Сергеевич</td>\n",
       "      <td>+++++--++++++-+++-+-+++--00</td>\n",
       "      <td>18</td>\n",
       "      <td>72</td>\n",
       "    </tr>\n",
       "  </tbody>\n",
       "</table>\n",
       "<p>98 rows × 9 columns</p>\n",
       "</div>"
      ],
      "text/plain": [
       "     №  Код ОО Класс      Фамилия        Имя        Отчество  \\\n",
       "0    1   13984   1И3       Акопян      Артём     Хачатурович   \n",
       "1    2   13984   1И2     Рысенков     Андрей   Александрович   \n",
       "2    3   13984   1И4     Петренко      Игорь      Алексеевич   \n",
       "3    4   13984   1И3      Пашкова  Екатерина        Олеговна   \n",
       "4    5   13984   1И4     Панарина     Полина      Евгеньевна   \n",
       "..  ..     ...   ...          ...        ...             ...   \n",
       "93  94   13984   1И2       Дятлов     Леонид  Константинович   \n",
       "94  95   13984   1И1     Дубинкин      Антон    Владимирович   \n",
       "95  96   13984   1И1       Амелин       Иван        Игоревич   \n",
       "96  97   13984   1И1  Романовский     Максим      Алексеевич   \n",
       "97  98   13984   1И3    Ходосевич       Иван       Сергеевич   \n",
       "\n",
       "      Задания с кратким ответом  Первичный балл  Тестовый балл  \n",
       "0   ++-++++++---+++++-+++++--00              18             72  \n",
       "1   +++++-+--+-++++++-+++++--02              20             85  \n",
       "2   +-++++-+-+-++++++-+++-+--00              17             70  \n",
       "3   +++++++--+-+-+++-++++++-+00              19             75  \n",
       "4   +++++-+++++++++++++++-++-02              24             88  \n",
       "..                          ...             ...            ...  \n",
       "93  +++++++-++++++++++++--+--22              24             88  \n",
       "94  +++++-+++++-++++--+++----00              17             70  \n",
       "95  +++++-++++-++++++++++++-+00              22             83  \n",
       "96  ++++++++-+---+++-++-+-+--02              18             72  \n",
       "97  +++++--++++++-+++-+-+++--00              18             72  \n",
       "\n",
       "[98 rows x 9 columns]"
      ]
     },
     "execution_count": 86,
     "metadata": {},
     "output_type": "execute_result"
    }
   ],
   "source": [
    "grades_math_info"
   ]
  },
  {
   "cell_type": "code",
   "execution_count": 87,
   "id": "764da6fd-e25c-4601-85bb-87626420f544",
   "metadata": {},
   "outputs": [],
   "source": [
    "grades_lyc_info = pd.read_excel('cs_exam_grades_2005.xlsx', sheet_name = 'Лицей НИУ ВШЭ')"
   ]
  },
  {
   "cell_type": "code",
   "execution_count": 88,
   "id": "f62f5436-d69f-44c4-ba6a-629cb028a4b0",
   "metadata": {},
   "outputs": [
    {
     "data": {
      "text/html": [
       "<div>\n",
       "<style scoped>\n",
       "    .dataframe tbody tr th:only-of-type {\n",
       "        vertical-align: middle;\n",
       "    }\n",
       "\n",
       "    .dataframe tbody tr th {\n",
       "        vertical-align: top;\n",
       "    }\n",
       "\n",
       "    .dataframe thead th {\n",
       "        text-align: right;\n",
       "    }\n",
       "</style>\n",
       "<table border=\"1\" class=\"dataframe\">\n",
       "  <thead>\n",
       "    <tr style=\"text-align: right;\">\n",
       "      <th></th>\n",
       "      <th>№</th>\n",
       "      <th>Код ОО</th>\n",
       "      <th>Класс</th>\n",
       "      <th>Фамилия</th>\n",
       "      <th>Имя</th>\n",
       "      <th>Отчество</th>\n",
       "      <th>Задания с кратким ответом</th>\n",
       "      <th>Первичный балл</th>\n",
       "      <th>Тестовый балл</th>\n",
       "    </tr>\n",
       "  </thead>\n",
       "  <tbody>\n",
       "    <tr>\n",
       "      <th>0</th>\n",
       "      <td>1</td>\n",
       "      <td>13984</td>\n",
       "      <td>1И3</td>\n",
       "      <td>Акопян</td>\n",
       "      <td>Артём</td>\n",
       "      <td>Хачатурович</td>\n",
       "      <td>++-++++++---+++++-+++++--00</td>\n",
       "      <td>18</td>\n",
       "      <td>72</td>\n",
       "    </tr>\n",
       "    <tr>\n",
       "      <th>1</th>\n",
       "      <td>2</td>\n",
       "      <td>13984</td>\n",
       "      <td>1В1</td>\n",
       "      <td>Саванин</td>\n",
       "      <td>Сергей</td>\n",
       "      <td>Сергеевич</td>\n",
       "      <td>++++++++++++-+-+--++-----00</td>\n",
       "      <td>16</td>\n",
       "      <td>67</td>\n",
       "    </tr>\n",
       "    <tr>\n",
       "      <th>2</th>\n",
       "      <td>3</td>\n",
       "      <td>13984</td>\n",
       "      <td>1И2</td>\n",
       "      <td>Рысенков</td>\n",
       "      <td>Андрей</td>\n",
       "      <td>Александрович</td>\n",
       "      <td>+++++-+--+-++++++-+++++--02</td>\n",
       "      <td>20</td>\n",
       "      <td>78</td>\n",
       "    </tr>\n",
       "    <tr>\n",
       "      <th>3</th>\n",
       "      <td>4</td>\n",
       "      <td>13984</td>\n",
       "      <td>1Д1</td>\n",
       "      <td>Рухлов</td>\n",
       "      <td>Арсений</td>\n",
       "      <td>Ильич</td>\n",
       "      <td>++----------------+------00</td>\n",
       "      <td>3</td>\n",
       "      <td>20</td>\n",
       "    </tr>\n",
       "    <tr>\n",
       "      <th>4</th>\n",
       "      <td>5</td>\n",
       "      <td>13984</td>\n",
       "      <td>1Э5</td>\n",
       "      <td>Рубцов</td>\n",
       "      <td>Игорь</td>\n",
       "      <td>Владимирович</td>\n",
       "      <td>++++----++-----+--++-+---00</td>\n",
       "      <td>10</td>\n",
       "      <td>51</td>\n",
       "    </tr>\n",
       "    <tr>\n",
       "      <th>...</th>\n",
       "      <td>...</td>\n",
       "      <td>...</td>\n",
       "      <td>...</td>\n",
       "      <td>...</td>\n",
       "      <td>...</td>\n",
       "      <td>...</td>\n",
       "      <td>...</td>\n",
       "      <td>...</td>\n",
       "      <td>...</td>\n",
       "    </tr>\n",
       "    <tr>\n",
       "      <th>147</th>\n",
       "      <td>148</td>\n",
       "      <td>13984</td>\n",
       "      <td>1Э1</td>\n",
       "      <td>Гуськов</td>\n",
       "      <td>Илья</td>\n",
       "      <td>Дмитриевич</td>\n",
       "      <td>++++-+------++-----------00</td>\n",
       "      <td>7</td>\n",
       "      <td>43</td>\n",
       "    </tr>\n",
       "    <tr>\n",
       "      <th>148</th>\n",
       "      <td>149</td>\n",
       "      <td>13984</td>\n",
       "      <td>1Э1</td>\n",
       "      <td>Батурлина</td>\n",
       "      <td>Александра</td>\n",
       "      <td>Сергеевна</td>\n",
       "      <td>+-++-++++++-+++++++++++--00</td>\n",
       "      <td>20</td>\n",
       "      <td>78</td>\n",
       "    </tr>\n",
       "    <tr>\n",
       "      <th>149</th>\n",
       "      <td>150</td>\n",
       "      <td>13984</td>\n",
       "      <td>1И1</td>\n",
       "      <td>Амелин</td>\n",
       "      <td>Иван</td>\n",
       "      <td>Игоревич</td>\n",
       "      <td>+++++-++++-++++++++++++-+00</td>\n",
       "      <td>22</td>\n",
       "      <td>83</td>\n",
       "    </tr>\n",
       "    <tr>\n",
       "      <th>150</th>\n",
       "      <td>151</td>\n",
       "      <td>13984</td>\n",
       "      <td>1И1</td>\n",
       "      <td>Романовский</td>\n",
       "      <td>Максим</td>\n",
       "      <td>Алексеевич</td>\n",
       "      <td>++++++++-+---+++-++-+-+--02</td>\n",
       "      <td>18</td>\n",
       "      <td>72</td>\n",
       "    </tr>\n",
       "    <tr>\n",
       "      <th>151</th>\n",
       "      <td>152</td>\n",
       "      <td>13984</td>\n",
       "      <td>1И3</td>\n",
       "      <td>Ходосевич</td>\n",
       "      <td>Иван</td>\n",
       "      <td>Сергеевич</td>\n",
       "      <td>+++++--++++++-+++-+-+++--00</td>\n",
       "      <td>18</td>\n",
       "      <td>72</td>\n",
       "    </tr>\n",
       "  </tbody>\n",
       "</table>\n",
       "<p>152 rows × 9 columns</p>\n",
       "</div>"
      ],
      "text/plain": [
       "       №  Код ОО Класс      Фамилия         Имя       Отчество  \\\n",
       "0      1   13984   1И3       Акопян       Артём    Хачатурович   \n",
       "1      2   13984   1В1      Саванин      Сергей      Сергеевич   \n",
       "2      3   13984   1И2     Рысенков      Андрей  Александрович   \n",
       "3      4   13984   1Д1       Рухлов     Арсений          Ильич   \n",
       "4      5   13984   1Э5       Рубцов       Игорь   Владимирович   \n",
       "..   ...     ...   ...          ...         ...            ...   \n",
       "147  148   13984   1Э1      Гуськов        Илья     Дмитриевич   \n",
       "148  149   13984   1Э1    Батурлина  Александра      Сергеевна   \n",
       "149  150   13984   1И1       Амелин        Иван       Игоревич   \n",
       "150  151   13984   1И1  Романовский      Максим     Алексеевич   \n",
       "151  152   13984   1И3    Ходосевич        Иван      Сергеевич   \n",
       "\n",
       "       Задания с кратким ответом  Первичный балл  Тестовый балл  \n",
       "0    ++-++++++---+++++-+++++--00              18             72  \n",
       "1    ++++++++++++-+-+--++-----00              16             67  \n",
       "2    +++++-+--+-++++++-+++++--02              20             78  \n",
       "3    ++----------------+------00               3             20  \n",
       "4    ++++----++-----+--++-+---00              10             51  \n",
       "..                           ...             ...            ...  \n",
       "147  ++++-+------++-----------00               7             43  \n",
       "148  +-++-++++++-+++++++++++--00              20             78  \n",
       "149  +++++-++++-++++++++++++-+00              22             83  \n",
       "150  ++++++++-+---+++-++-+-+--02              18             72  \n",
       "151  +++++--++++++-+++-+-+++--00              18             72  \n",
       "\n",
       "[152 rows x 9 columns]"
      ]
     },
     "execution_count": 88,
     "metadata": {},
     "output_type": "execute_result"
    }
   ],
   "source": [
    "grades_lyc_info"
   ]
  },
  {
   "cell_type": "code",
   "execution_count": 89,
   "id": "568df846-769c-47df-91b3-9a1ce193b03d",
   "metadata": {},
   "outputs": [
    {
     "data": {
      "text/plain": [
       "RangeIndex(start=0, stop=152, step=1)"
      ]
     },
     "execution_count": 89,
     "metadata": {},
     "output_type": "execute_result"
    }
   ],
   "source": [
    "grades_lyc_info.index"
   ]
  },
  {
   "cell_type": "code",
   "execution_count": 91,
   "id": "9a87f165-36f0-4c77-b52f-acc85ad4f037",
   "metadata": {},
   "outputs": [
    {
     "data": {
      "text/plain": [
       "Index(['№', 'Код ОО', 'Класс', 'Фамилия', 'Имя', 'Отчество',\n",
       "       'Задания с кратким ответом', 'Первичный балл', 'Тестовый балл'],\n",
       "      dtype='object')"
      ]
     },
     "execution_count": 91,
     "metadata": {},
     "output_type": "execute_result"
    }
   ],
   "source": [
    "grades_lyc_info.columns"
   ]
  },
  {
   "cell_type": "code",
   "execution_count": 92,
   "id": "69981c10-1ad0-438c-91b0-d89561ea2368",
   "metadata": {},
   "outputs": [
    {
     "data": {
      "text/plain": [
       "'Фамилия'"
      ]
     },
     "execution_count": 92,
     "metadata": {},
     "output_type": "execute_result"
    }
   ],
   "source": [
    "grades_lyc_info.columns[3]"
   ]
  }
 ],
 "metadata": {
  "kernelspec": {
   "display_name": "Python 3 (ipykernel)",
   "language": "python",
   "name": "python3"
  },
  "language_info": {
   "codemirror_mode": {
    "name": "ipython",
    "version": 3
   },
   "file_extension": ".py",
   "mimetype": "text/x-python",
   "name": "python",
   "nbconvert_exporter": "python",
   "pygments_lexer": "ipython3",
   "version": "3.13.2"
  }
 },
 "nbformat": 4,
 "nbformat_minor": 5
}
