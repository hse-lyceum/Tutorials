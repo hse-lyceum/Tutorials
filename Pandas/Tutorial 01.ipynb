{
 "cells": [
  {
   "cell_type": "code",
   "execution_count": 1,
   "id": "0f4a41d7-d9a3-4bcb-9a03-be6c6d1318b2",
   "metadata": {},
   "outputs": [],
   "source": [
    "import pandas as pd"
   ]
  },
  {
   "cell_type": "markdown",
   "id": "b73071ae-a89f-4616-9c57-ffd30bf78f0c",
   "metadata": {},
   "source": [
    "## Creating a data frame"
   ]
  },
  {
   "cell_type": "markdown",
   "id": "1563d968-3adb-4e8d-af54-1a74e699a03e",
   "metadata": {},
   "source": [
    "### Data"
   ]
  },
  {
   "cell_type": "code",
   "execution_count": 2,
   "id": "22b4c1a0-29a2-40f1-9923-f76facaf7f2b",
   "metadata": {},
   "outputs": [],
   "source": [
    "# Data lists\n",
    "names = ['Alexander', 'Robert', 'Cynthia', 'Jessica', 'Alan', 'Danny', 'Maria', 'Karim']\n",
    "ages = [29, 19, 21, 45, 34, 34, 51, 27]\n",
    "cities = ['Moscow', 'New York', 'Paris', 'Berlin', 'Tokyo', 'Berlin', 'Madrid', 'Tomsk']\n",
    "test_scores = [20, 72, 13, 43, 38, 34, 8, 89]"
   ]
  },
  {
   "cell_type": "markdown",
   "id": "ea0d0a30-05ab-4c9d-8579-15f6afdba3ed",
   "metadata": {},
   "source": [
    "### Data dictionary"
   ]
  },
  {
   "cell_type": "code",
   "execution_count": 3,
   "id": "86f27307-5f27-4d46-bfbb-5f8ffc0456ca",
   "metadata": {},
   "outputs": [],
   "source": [
    "# data dictionary of pairs {column name: data}\n",
    "test_data = {'Name': names, 'City': cities, 'Age': ages, 'Test score': test_scores}"
   ]
  },
  {
   "cell_type": "code",
   "execution_count": 4,
   "id": "114af5d4-5357-41b3-8ff2-c9c62a781c21",
   "metadata": {},
   "outputs": [],
   "source": [
    "# indices (names of rows)\n",
    "id = ['id 001', 'id 002', 'id 003', 'id 004', 'id 005', 'id 006', 'id 007', 'id 008']"
   ]
  },
  {
   "cell_type": "code",
   "execution_count": 5,
   "id": "99ad40b7-4497-41b0-b87c-a52c82ae2a2f",
   "metadata": {},
   "outputs": [],
   "source": [
    "# creating a data frame\n",
    "df = pd.DataFrame(test_data, index=id)"
   ]
  },
  {
   "cell_type": "code",
   "execution_count": 6,
   "id": "f373d5fc-c622-4a4d-90b5-959f727631bc",
   "metadata": {},
   "outputs": [
    {
     "data": {
      "text/html": [
       "<div>\n",
       "<style scoped>\n",
       "    .dataframe tbody tr th:only-of-type {\n",
       "        vertical-align: middle;\n",
       "    }\n",
       "\n",
       "    .dataframe tbody tr th {\n",
       "        vertical-align: top;\n",
       "    }\n",
       "\n",
       "    .dataframe thead th {\n",
       "        text-align: right;\n",
       "    }\n",
       "</style>\n",
       "<table border=\"1\" class=\"dataframe\">\n",
       "  <thead>\n",
       "    <tr style=\"text-align: right;\">\n",
       "      <th></th>\n",
       "      <th>Name</th>\n",
       "      <th>City</th>\n",
       "      <th>Age</th>\n",
       "      <th>Test score</th>\n",
       "    </tr>\n",
       "  </thead>\n",
       "  <tbody>\n",
       "    <tr>\n",
       "      <th>id 001</th>\n",
       "      <td>Alexander</td>\n",
       "      <td>Moscow</td>\n",
       "      <td>29</td>\n",
       "      <td>20</td>\n",
       "    </tr>\n",
       "    <tr>\n",
       "      <th>id 002</th>\n",
       "      <td>Robert</td>\n",
       "      <td>New York</td>\n",
       "      <td>19</td>\n",
       "      <td>72</td>\n",
       "    </tr>\n",
       "    <tr>\n",
       "      <th>id 003</th>\n",
       "      <td>Cynthia</td>\n",
       "      <td>Paris</td>\n",
       "      <td>21</td>\n",
       "      <td>13</td>\n",
       "    </tr>\n",
       "    <tr>\n",
       "      <th>id 004</th>\n",
       "      <td>Jessica</td>\n",
       "      <td>Berlin</td>\n",
       "      <td>45</td>\n",
       "      <td>43</td>\n",
       "    </tr>\n",
       "    <tr>\n",
       "      <th>id 005</th>\n",
       "      <td>Alan</td>\n",
       "      <td>Tokyo</td>\n",
       "      <td>34</td>\n",
       "      <td>38</td>\n",
       "    </tr>\n",
       "    <tr>\n",
       "      <th>id 006</th>\n",
       "      <td>Danny</td>\n",
       "      <td>Berlin</td>\n",
       "      <td>34</td>\n",
       "      <td>34</td>\n",
       "    </tr>\n",
       "    <tr>\n",
       "      <th>id 007</th>\n",
       "      <td>Maria</td>\n",
       "      <td>Madrid</td>\n",
       "      <td>51</td>\n",
       "      <td>8</td>\n",
       "    </tr>\n",
       "    <tr>\n",
       "      <th>id 008</th>\n",
       "      <td>Karim</td>\n",
       "      <td>Tomsk</td>\n",
       "      <td>27</td>\n",
       "      <td>89</td>\n",
       "    </tr>\n",
       "  </tbody>\n",
       "</table>\n",
       "</div>"
      ],
      "text/plain": [
       "             Name      City  Age  Test score\n",
       "id 001  Alexander    Moscow   29          20\n",
       "id 002     Robert  New York   19          72\n",
       "id 003    Cynthia     Paris   21          13\n",
       "id 004    Jessica    Berlin   45          43\n",
       "id 005       Alan     Tokyo   34          38\n",
       "id 006      Danny    Berlin   34          34\n",
       "id 007      Maria    Madrid   51           8\n",
       "id 008      Karim     Tomsk   27          89"
      ]
     },
     "execution_count": 6,
     "metadata": {},
     "output_type": "execute_result"
    }
   ],
   "source": [
    "df"
   ]
  },
  {
   "cell_type": "code",
   "execution_count": 7,
   "id": "1ee51abf-f782-4cd5-a388-df6d2884f0b4",
   "metadata": {},
   "outputs": [
    {
     "data": {
      "text/plain": [
       "pandas.core.frame.DataFrame"
      ]
     },
     "execution_count": 7,
     "metadata": {},
     "output_type": "execute_result"
    }
   ],
   "source": [
    "# checking the data frame type\n",
    "type(df)"
   ]
  },
  {
   "cell_type": "code",
   "execution_count": 8,
   "id": "c7bbd2c5-55ac-44d8-8ced-bbfb49c0a7fc",
   "metadata": {},
   "outputs": [
    {
     "data": {
      "text/plain": [
       "Index(['id 001', 'id 002', 'id 003', 'id 004', 'id 005', 'id 006', 'id 007',\n",
       "       'id 008'],\n",
       "      dtype='object')"
      ]
     },
     "execution_count": 8,
     "metadata": {},
     "output_type": "execute_result"
    }
   ],
   "source": [
    "# indices\n",
    "df.index"
   ]
  },
  {
   "cell_type": "code",
   "execution_count": 9,
   "id": "de9b88c7-39d9-4d61-8461-45f95af585bb",
   "metadata": {},
   "outputs": [
    {
     "data": {
      "text/plain": [
       "Index(['Name', 'City', 'Age', 'Test score'], dtype='object')"
      ]
     },
     "execution_count": 9,
     "metadata": {},
     "output_type": "execute_result"
    }
   ],
   "source": [
    "# columns\n",
    "df.columns"
   ]
  },
  {
   "cell_type": "code",
   "execution_count": 10,
   "id": "9afcd14b-2916-4f84-969c-7fed6e5700dd",
   "metadata": {},
   "outputs": [
    {
     "data": {
      "text/plain": [
       "(pandas.core.indexes.base.Index, str, 'Age')"
      ]
     },
     "execution_count": 10,
     "metadata": {},
     "output_type": "execute_result"
    }
   ],
   "source": [
    "type(df.columns), type(df.columns[2]), df.columns[2]"
   ]
  },
  {
   "cell_type": "code",
   "execution_count": 11,
   "id": "4168dc7b-8ac9-440b-a7a7-8a8a485f4308",
   "metadata": {},
   "outputs": [
    {
     "name": "stdout",
     "output_type": "stream",
     "text": [
      "| Name | City | Age | Test score | "
     ]
    }
   ],
   "source": [
    "print(\"| \", end='', sep='')\n",
    "for col in df.columns:\n",
    "    print(col, ' | ', end='', sep='')"
   ]
  },
  {
   "cell_type": "code",
   "execution_count": 12,
   "id": "90e39eee-ed59-4885-b515-c7e5287c313f",
   "metadata": {},
   "outputs": [
    {
     "data": {
      "text/html": [
       "<div>\n",
       "<style scoped>\n",
       "    .dataframe tbody tr th:only-of-type {\n",
       "        vertical-align: middle;\n",
       "    }\n",
       "\n",
       "    .dataframe tbody tr th {\n",
       "        vertical-align: top;\n",
       "    }\n",
       "\n",
       "    .dataframe thead th {\n",
       "        text-align: right;\n",
       "    }\n",
       "</style>\n",
       "<table border=\"1\" class=\"dataframe\">\n",
       "  <thead>\n",
       "    <tr style=\"text-align: right;\">\n",
       "      <th></th>\n",
       "      <th>Name</th>\n",
       "      <th>City</th>\n",
       "      <th>Age</th>\n",
       "      <th>Test score</th>\n",
       "    </tr>\n",
       "  </thead>\n",
       "  <tbody>\n",
       "    <tr>\n",
       "      <th>id 001</th>\n",
       "      <td>Alexander</td>\n",
       "      <td>Moscow</td>\n",
       "      <td>29</td>\n",
       "      <td>20</td>\n",
       "    </tr>\n",
       "    <tr>\n",
       "      <th>id 002</th>\n",
       "      <td>Robert</td>\n",
       "      <td>New York</td>\n",
       "      <td>19</td>\n",
       "      <td>72</td>\n",
       "    </tr>\n",
       "    <tr>\n",
       "      <th>id 003</th>\n",
       "      <td>Cynthia</td>\n",
       "      <td>Paris</td>\n",
       "      <td>21</td>\n",
       "      <td>13</td>\n",
       "    </tr>\n",
       "    <tr>\n",
       "      <th>id 004</th>\n",
       "      <td>Jessica</td>\n",
       "      <td>Berlin</td>\n",
       "      <td>45</td>\n",
       "      <td>43</td>\n",
       "    </tr>\n",
       "    <tr>\n",
       "      <th>id 005</th>\n",
       "      <td>Alan</td>\n",
       "      <td>Tokyo</td>\n",
       "      <td>34</td>\n",
       "      <td>38</td>\n",
       "    </tr>\n",
       "  </tbody>\n",
       "</table>\n",
       "</div>"
      ],
      "text/plain": [
       "             Name      City  Age  Test score\n",
       "id 001  Alexander    Moscow   29          20\n",
       "id 002     Robert  New York   19          72\n",
       "id 003    Cynthia     Paris   21          13\n",
       "id 004    Jessica    Berlin   45          43\n",
       "id 005       Alan     Tokyo   34          38"
      ]
     },
     "execution_count": 12,
     "metadata": {},
     "output_type": "execute_result"
    }
   ],
   "source": [
    "# first rows (5 by default)\n",
    "df.head()"
   ]
  },
  {
   "cell_type": "code",
   "execution_count": 13,
   "id": "fe673756-b8cd-4ba7-9574-39e6206c0c9d",
   "metadata": {},
   "outputs": [
    {
     "data": {
      "text/html": [
       "<div>\n",
       "<style scoped>\n",
       "    .dataframe tbody tr th:only-of-type {\n",
       "        vertical-align: middle;\n",
       "    }\n",
       "\n",
       "    .dataframe tbody tr th {\n",
       "        vertical-align: top;\n",
       "    }\n",
       "\n",
       "    .dataframe thead th {\n",
       "        text-align: right;\n",
       "    }\n",
       "</style>\n",
       "<table border=\"1\" class=\"dataframe\">\n",
       "  <thead>\n",
       "    <tr style=\"text-align: right;\">\n",
       "      <th></th>\n",
       "      <th>Name</th>\n",
       "      <th>City</th>\n",
       "      <th>Age</th>\n",
       "      <th>Test score</th>\n",
       "    </tr>\n",
       "  </thead>\n",
       "  <tbody>\n",
       "    <tr>\n",
       "      <th>id 004</th>\n",
       "      <td>Jessica</td>\n",
       "      <td>Berlin</td>\n",
       "      <td>45</td>\n",
       "      <td>43</td>\n",
       "    </tr>\n",
       "    <tr>\n",
       "      <th>id 005</th>\n",
       "      <td>Alan</td>\n",
       "      <td>Tokyo</td>\n",
       "      <td>34</td>\n",
       "      <td>38</td>\n",
       "    </tr>\n",
       "    <tr>\n",
       "      <th>id 006</th>\n",
       "      <td>Danny</td>\n",
       "      <td>Berlin</td>\n",
       "      <td>34</td>\n",
       "      <td>34</td>\n",
       "    </tr>\n",
       "    <tr>\n",
       "      <th>id 007</th>\n",
       "      <td>Maria</td>\n",
       "      <td>Madrid</td>\n",
       "      <td>51</td>\n",
       "      <td>8</td>\n",
       "    </tr>\n",
       "    <tr>\n",
       "      <th>id 008</th>\n",
       "      <td>Karim</td>\n",
       "      <td>Tomsk</td>\n",
       "      <td>27</td>\n",
       "      <td>89</td>\n",
       "    </tr>\n",
       "  </tbody>\n",
       "</table>\n",
       "</div>"
      ],
      "text/plain": [
       "           Name    City  Age  Test score\n",
       "id 004  Jessica  Berlin   45          43\n",
       "id 005     Alan   Tokyo   34          38\n",
       "id 006    Danny  Berlin   34          34\n",
       "id 007    Maria  Madrid   51           8\n",
       "id 008    Karim   Tomsk   27          89"
      ]
     },
     "execution_count": 13,
     "metadata": {},
     "output_type": "execute_result"
    }
   ],
   "source": [
    "# last rows (5 by default)\n",
    "df.tail()"
   ]
  },
  {
   "cell_type": "code",
   "execution_count": 14,
   "id": "11f03471-eb21-4898-9c9c-66ab26bc3cae",
   "metadata": {},
   "outputs": [
    {
     "data": {
      "text/html": [
       "<div>\n",
       "<style scoped>\n",
       "    .dataframe tbody tr th:only-of-type {\n",
       "        vertical-align: middle;\n",
       "    }\n",
       "\n",
       "    .dataframe tbody tr th {\n",
       "        vertical-align: top;\n",
       "    }\n",
       "\n",
       "    .dataframe thead th {\n",
       "        text-align: right;\n",
       "    }\n",
       "</style>\n",
       "<table border=\"1\" class=\"dataframe\">\n",
       "  <thead>\n",
       "    <tr style=\"text-align: right;\">\n",
       "      <th></th>\n",
       "      <th>Name</th>\n",
       "      <th>City</th>\n",
       "      <th>Age</th>\n",
       "      <th>Test score</th>\n",
       "    </tr>\n",
       "  </thead>\n",
       "  <tbody>\n",
       "    <tr>\n",
       "      <th>id 001</th>\n",
       "      <td>Alexander</td>\n",
       "      <td>Moscow</td>\n",
       "      <td>29</td>\n",
       "      <td>20</td>\n",
       "    </tr>\n",
       "    <tr>\n",
       "      <th>id 002</th>\n",
       "      <td>Robert</td>\n",
       "      <td>New York</td>\n",
       "      <td>19</td>\n",
       "      <td>72</td>\n",
       "    </tr>\n",
       "    <tr>\n",
       "      <th>id 003</th>\n",
       "      <td>Cynthia</td>\n",
       "      <td>Paris</td>\n",
       "      <td>21</td>\n",
       "      <td>13</td>\n",
       "    </tr>\n",
       "  </tbody>\n",
       "</table>\n",
       "</div>"
      ],
      "text/plain": [
       "             Name      City  Age  Test score\n",
       "id 001  Alexander    Moscow   29          20\n",
       "id 002     Robert  New York   19          72\n",
       "id 003    Cynthia     Paris   21          13"
      ]
     },
     "execution_count": 14,
     "metadata": {},
     "output_type": "execute_result"
    }
   ],
   "source": [
    "df.head(3)"
   ]
  },
  {
   "cell_type": "code",
   "execution_count": 15,
   "id": "2d9e0c3f-ac30-4e54-85a5-2dedc3cedd68",
   "metadata": {},
   "outputs": [
    {
     "data": {
      "text/html": [
       "<div>\n",
       "<style scoped>\n",
       "    .dataframe tbody tr th:only-of-type {\n",
       "        vertical-align: middle;\n",
       "    }\n",
       "\n",
       "    .dataframe tbody tr th {\n",
       "        vertical-align: top;\n",
       "    }\n",
       "\n",
       "    .dataframe thead th {\n",
       "        text-align: right;\n",
       "    }\n",
       "</style>\n",
       "<table border=\"1\" class=\"dataframe\">\n",
       "  <thead>\n",
       "    <tr style=\"text-align: right;\">\n",
       "      <th></th>\n",
       "      <th>Name</th>\n",
       "      <th>City</th>\n",
       "      <th>Age</th>\n",
       "      <th>Test score</th>\n",
       "    </tr>\n",
       "  </thead>\n",
       "  <tbody>\n",
       "    <tr>\n",
       "      <th>id 007</th>\n",
       "      <td>Maria</td>\n",
       "      <td>Madrid</td>\n",
       "      <td>51</td>\n",
       "      <td>8</td>\n",
       "    </tr>\n",
       "    <tr>\n",
       "      <th>id 008</th>\n",
       "      <td>Karim</td>\n",
       "      <td>Tomsk</td>\n",
       "      <td>27</td>\n",
       "      <td>89</td>\n",
       "    </tr>\n",
       "  </tbody>\n",
       "</table>\n",
       "</div>"
      ],
      "text/plain": [
       "         Name    City  Age  Test score\n",
       "id 007  Maria  Madrid   51           8\n",
       "id 008  Karim   Tomsk   27          89"
      ]
     },
     "execution_count": 15,
     "metadata": {},
     "output_type": "execute_result"
    }
   ],
   "source": [
    "df.tail(2)"
   ]
  },
  {
   "cell_type": "markdown",
   "id": "2720ca7e-5ccd-4a55-9e04-e2e4a6084c06",
   "metadata": {},
   "source": [
    "## Working With Rows and Columns in DataFrames"
   ]
  },
  {
   "cell_type": "code",
   "execution_count": 16,
   "id": "a8e02276-0fcd-4eca-bed1-2c0088151286",
   "metadata": {},
   "outputs": [
    {
     "data": {
      "text/plain": [
       "id 001      Moscow\n",
       "id 002    New York\n",
       "id 003       Paris\n",
       "id 004      Berlin\n",
       "id 005       Tokyo\n",
       "id 006      Berlin\n",
       "id 007      Madrid\n",
       "id 008       Tomsk\n",
       "Name: City, dtype: object"
      ]
     },
     "execution_count": 16,
     "metadata": {},
     "output_type": "execute_result"
    }
   ],
   "source": [
    "# Getting some specific column by indexing\n",
    "df['City']"
   ]
  },
  {
   "cell_type": "code",
   "execution_count": 17,
   "id": "43d1c6eb-d32b-4cbe-be70-3093c54d2db1",
   "metadata": {},
   "outputs": [
    {
     "data": {
      "text/plain": [
       "id 001    29\n",
       "id 002    19\n",
       "id 003    21\n",
       "id 004    45\n",
       "id 005    34\n",
       "id 006    34\n",
       "id 007    51\n",
       "id 008    27\n",
       "Name: Age, dtype: int64"
      ]
     },
     "execution_count": 17,
     "metadata": {},
     "output_type": "execute_result"
    }
   ],
   "source": [
    "# Getting some specific column as an attribute\n",
    "df.Age"
   ]
  },
  {
   "cell_type": "code",
   "execution_count": 18,
   "id": "acba08a5-8ced-49de-883c-cf9dd62f08c8",
   "metadata": {},
   "outputs": [
    {
     "data": {
      "text/plain": [
       "pandas.core.series.Series"
      ]
     },
     "execution_count": 18,
     "metadata": {},
     "output_type": "execute_result"
    }
   ],
   "source": [
    "# Printing the type\n",
    "type(df['City'])"
   ]
  },
  {
   "cell_type": "code",
   "execution_count": 19,
   "id": "281aeef3-d040-48bc-bbd9-9fb111f85f6e",
   "metadata": {},
   "outputs": [
    {
     "data": {
      "text/plain": [
       "'Tokyo'"
      ]
     },
     "execution_count": 19,
     "metadata": {},
     "output_type": "execute_result"
    }
   ],
   "source": [
    "# getting the row by its user-defined index in the Pandas series\n",
    "df['City']['id 005']"
   ]
  },
  {
   "cell_type": "code",
   "execution_count": 20,
   "id": "6a4182e4-528b-4074-b1e0-0e4e8847135e",
   "metadata": {},
   "outputs": [
    {
     "data": {
      "text/plain": [
       "'Moscow'"
      ]
     },
     "execution_count": 20,
     "metadata": {},
     "output_type": "execute_result"
    }
   ],
   "source": [
    "# getting the row by its 0-based index in the Pandas series\n",
    "df['City'].iloc[0]"
   ]
  },
  {
   "cell_type": "code",
   "execution_count": 21,
   "id": "f612e988-c5e6-4f5e-8658-cb1ca858506a",
   "metadata": {},
   "outputs": [
    {
     "data": {
      "text/plain": [
       "['id 004', 'id 006']"
      ]
     },
     "execution_count": 21,
     "metadata": {},
     "output_type": "execute_result"
    }
   ],
   "source": [
    "# getting indices of all rows with some specific values\n",
    "df.index[df['City'] == 'Berlin'].tolist()"
   ]
  },
  {
   "cell_type": "code",
   "execution_count": 22,
   "id": "a18cb491-34fe-4245-8e4f-4ddb1406543d",
   "metadata": {},
   "outputs": [
    {
     "data": {
      "text/plain": [
       "id 001    20\n",
       "id 002    72\n",
       "id 003    13\n",
       "id 004    43\n",
       "id 005    38\n",
       "id 006    34\n",
       "id 007     8\n",
       "id 008    89\n",
       "Name: Test score, dtype: int64"
      ]
     },
     "execution_count": 22,
     "metadata": {},
     "output_type": "execute_result"
    }
   ],
   "source": [
    "df['Test score']"
   ]
  },
  {
   "cell_type": "code",
   "execution_count": 23,
   "id": "4958ffe3-e975-41a7-8085-6a55503e6b51",
   "metadata": {},
   "outputs": [
    {
     "data": {
      "text/plain": [
       "Name            Robert\n",
       "City          New York\n",
       "Age                 19\n",
       "Test score          72\n",
       "Name: id 002, dtype: object"
      ]
     },
     "execution_count": 23,
     "metadata": {},
     "output_type": "execute_result"
    }
   ],
   "source": [
    "# getting a row by its user-defined index in the Pandas data frame\n",
    "df.loc['id 002']"
   ]
  },
  {
   "cell_type": "code",
   "execution_count": 24,
   "id": "61c8a304-29f0-48f2-b25c-fed4e056ff46",
   "metadata": {},
   "outputs": [
    {
     "data": {
      "text/plain": [
       "pandas.core.series.Series"
      ]
     },
     "execution_count": 24,
     "metadata": {},
     "output_type": "execute_result"
    }
   ],
   "source": [
    "type(df.loc['id 002'])"
   ]
  },
  {
   "cell_type": "code",
   "execution_count": 25,
   "id": "5532dbe6-e9e4-4b9d-8386-7edd8aa47dfc",
   "metadata": {},
   "outputs": [
    {
     "data": {
      "text/plain": [
       "'Robert'"
      ]
     },
     "execution_count": 25,
     "metadata": {},
     "output_type": "execute_result"
    }
   ],
   "source": [
    "df.loc['id 002'].Name"
   ]
  },
  {
   "cell_type": "code",
   "execution_count": 26,
   "id": "e1f76716-dd7a-4652-ba7e-e64d5957beb2",
   "metadata": {},
   "outputs": [
    {
     "data": {
      "text/plain": [
       "Name            Robert\n",
       "City          New York\n",
       "Age                 19\n",
       "Test score          72\n",
       "Name: id 002, dtype: object"
      ]
     },
     "execution_count": 26,
     "metadata": {},
     "output_type": "execute_result"
    }
   ],
   "source": [
    "# getting a row by its 0-based index in the Pandas data frame\n",
    "df.iloc[1]"
   ]
  },
  {
   "cell_type": "code",
   "execution_count": 27,
   "id": "f7d92aa1-5953-44ed-a8ec-42dca6e06b7a",
   "metadata": {},
   "outputs": [
    {
     "data": {
      "text/html": [
       "<div>\n",
       "<style scoped>\n",
       "    .dataframe tbody tr th:only-of-type {\n",
       "        vertical-align: middle;\n",
       "    }\n",
       "\n",
       "    .dataframe tbody tr th {\n",
       "        vertical-align: top;\n",
       "    }\n",
       "\n",
       "    .dataframe thead th {\n",
       "        text-align: right;\n",
       "    }\n",
       "</style>\n",
       "<table border=\"1\" class=\"dataframe\">\n",
       "  <thead>\n",
       "    <tr style=\"text-align: right;\">\n",
       "      <th></th>\n",
       "      <th>Name</th>\n",
       "      <th>City</th>\n",
       "      <th>Age</th>\n",
       "      <th>Test score</th>\n",
       "    </tr>\n",
       "  </thead>\n",
       "  <tbody>\n",
       "    <tr>\n",
       "      <th>id 002</th>\n",
       "      <td>Robert</td>\n",
       "      <td>New York</td>\n",
       "      <td>19</td>\n",
       "      <td>72</td>\n",
       "    </tr>\n",
       "    <tr>\n",
       "      <th>id 004</th>\n",
       "      <td>Jessica</td>\n",
       "      <td>Berlin</td>\n",
       "      <td>45</td>\n",
       "      <td>43</td>\n",
       "    </tr>\n",
       "  </tbody>\n",
       "</table>\n",
       "</div>"
      ],
      "text/plain": [
       "           Name      City  Age  Test score\n",
       "id 002   Robert  New York   19          72\n",
       "id 004  Jessica    Berlin   45          43"
      ]
     },
     "execution_count": 27,
     "metadata": {},
     "output_type": "execute_result"
    }
   ],
   "source": [
    "# getting specific rows by their user-defined indices\n",
    "df.loc[['id 002', 'id 004']]"
   ]
  },
  {
   "cell_type": "code",
   "execution_count": 28,
   "id": "e9b2cc0b-8bf8-4f01-b3a1-f145031d1a71",
   "metadata": {},
   "outputs": [
    {
     "data": {
      "text/plain": [
       "pandas.core.frame.DataFrame"
      ]
     },
     "execution_count": 28,
     "metadata": {},
     "output_type": "execute_result"
    }
   ],
   "source": [
    "type(df.loc[['id 002', 'id 004']]) "
   ]
  },
  {
   "cell_type": "code",
   "execution_count": 29,
   "id": "617de443-726e-481f-b81d-d38e2fc01c22",
   "metadata": {},
   "outputs": [
    {
     "data": {
      "text/html": [
       "<div>\n",
       "<style scoped>\n",
       "    .dataframe tbody tr th:only-of-type {\n",
       "        vertical-align: middle;\n",
       "    }\n",
       "\n",
       "    .dataframe tbody tr th {\n",
       "        vertical-align: top;\n",
       "    }\n",
       "\n",
       "    .dataframe thead th {\n",
       "        text-align: right;\n",
       "    }\n",
       "</style>\n",
       "<table border=\"1\" class=\"dataframe\">\n",
       "  <thead>\n",
       "    <tr style=\"text-align: right;\">\n",
       "      <th></th>\n",
       "      <th>Name</th>\n",
       "      <th>Test score</th>\n",
       "    </tr>\n",
       "  </thead>\n",
       "  <tbody>\n",
       "    <tr>\n",
       "      <th>id 001</th>\n",
       "      <td>Alexander</td>\n",
       "      <td>20</td>\n",
       "    </tr>\n",
       "    <tr>\n",
       "      <th>id 002</th>\n",
       "      <td>Robert</td>\n",
       "      <td>72</td>\n",
       "    </tr>\n",
       "    <tr>\n",
       "      <th>id 003</th>\n",
       "      <td>Cynthia</td>\n",
       "      <td>13</td>\n",
       "    </tr>\n",
       "    <tr>\n",
       "      <th>id 004</th>\n",
       "      <td>Jessica</td>\n",
       "      <td>43</td>\n",
       "    </tr>\n",
       "    <tr>\n",
       "      <th>id 005</th>\n",
       "      <td>Alan</td>\n",
       "      <td>38</td>\n",
       "    </tr>\n",
       "    <tr>\n",
       "      <th>id 006</th>\n",
       "      <td>Danny</td>\n",
       "      <td>34</td>\n",
       "    </tr>\n",
       "    <tr>\n",
       "      <th>id 007</th>\n",
       "      <td>Maria</td>\n",
       "      <td>8</td>\n",
       "    </tr>\n",
       "    <tr>\n",
       "      <th>id 008</th>\n",
       "      <td>Karim</td>\n",
       "      <td>89</td>\n",
       "    </tr>\n",
       "  </tbody>\n",
       "</table>\n",
       "</div>"
      ],
      "text/plain": [
       "             Name  Test score\n",
       "id 001  Alexander          20\n",
       "id 002     Robert          72\n",
       "id 003    Cynthia          13\n",
       "id 004    Jessica          43\n",
       "id 005       Alan          38\n",
       "id 006      Danny          34\n",
       "id 007      Maria           8\n",
       "id 008      Karim          89"
      ]
     },
     "execution_count": 29,
     "metadata": {},
     "output_type": "execute_result"
    }
   ],
   "source": [
    "# getting specific columns by their names\n",
    "df[['Name', 'Test score']]"
   ]
  },
  {
   "cell_type": "code",
   "execution_count": 30,
   "id": "f8e1ce90-8006-46b0-9404-719bf5219c32",
   "metadata": {},
   "outputs": [
    {
     "data": {
      "text/plain": [
       "pandas.core.frame.DataFrame"
      ]
     },
     "execution_count": 30,
     "metadata": {},
     "output_type": "execute_result"
    }
   ],
   "source": [
    "type(df[['Name', 'Test score']]) "
   ]
  }
 ],
 "metadata": {
  "kernelspec": {
   "display_name": "Python 3 (ipykernel)",
   "language": "python",
   "name": "python3"
  },
  "language_info": {
   "codemirror_mode": {
    "name": "ipython",
    "version": 3
   },
   "file_extension": ".py",
   "mimetype": "text/x-python",
   "name": "python",
   "nbconvert_exporter": "python",
   "pygments_lexer": "ipython3",
   "version": "3.13.2"
  }
 },
 "nbformat": 4,
 "nbformat_minor": 5
}
