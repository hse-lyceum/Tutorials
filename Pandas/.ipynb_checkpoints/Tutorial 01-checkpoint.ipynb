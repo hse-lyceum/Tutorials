{
 "cells": [
  {
   "cell_type": "code",
   "execution_count": 50,
   "id": "0f4a41d7-d9a3-4bcb-9a03-be6c6d1318b2",
   "metadata": {},
   "outputs": [],
   "source": [
    "import pandas as pd"
   ]
  },
  {
   "cell_type": "markdown",
   "id": "b73071ae-a89f-4616-9c57-ffd30bf78f0c",
   "metadata": {},
   "source": [
    "## Creating a data frame"
   ]
  },
  {
   "cell_type": "code",
   "execution_count": 51,
   "id": "22b4c1a0-29a2-40f1-9923-f76facaf7f2b",
   "metadata": {},
   "outputs": [],
   "source": [
    "names = ['Alexander', 'Robert', 'Cynthia', 'Jessica', 'Alan', 'Danny', 'Maria', 'Karim']\n",
    "ages = [29, 19, 21, 45, 34, 34, 51, 27]\n",
    "cities = ['Moscow', 'New York', 'Paris', 'Berlin', 'Tokyo', 'Berlin', 'Madrid', 'Tomsk']\n",
    "test_scores = [20, 72, 13, 43, 38, 34, 8, 89]"
   ]
  },
  {
   "cell_type": "code",
   "execution_count": 52,
   "id": "86f27307-5f27-4d46-bfbb-5f8ffc0456ca",
   "metadata": {},
   "outputs": [],
   "source": [
    "test_data = {'Name': names, 'City': cities, 'Age': ages, 'Test score': test_scores}"
   ]
  },
  {
   "cell_type": "code",
   "execution_count": 54,
   "id": "114af5d4-5357-41b3-8ff2-c9c62a781c21",
   "metadata": {},
   "outputs": [],
   "source": [
    "id = ['id 001', 'id 002', 'id 003', 'id 004', 'id 005', 'id 006', 'id 007', 'id 008']"
   ]
  },
  {
   "cell_type": "code",
   "execution_count": 55,
   "id": "99ad40b7-4497-41b0-b87c-a52c82ae2a2f",
   "metadata": {},
   "outputs": [],
   "source": [
    "df = pd.DataFrame(test_data, index=id)"
   ]
  },
  {
   "cell_type": "code",
   "execution_count": 56,
   "id": "f373d5fc-c622-4a4d-90b5-959f727631bc",
   "metadata": {},
   "outputs": [
    {
     "data": {
      "text/html": [
       "<div>\n",
       "<style scoped>\n",
       "    .dataframe tbody tr th:only-of-type {\n",
       "        vertical-align: middle;\n",
       "    }\n",
       "\n",
       "    .dataframe tbody tr th {\n",
       "        vertical-align: top;\n",
       "    }\n",
       "\n",
       "    .dataframe thead th {\n",
       "        text-align: right;\n",
       "    }\n",
       "</style>\n",
       "<table border=\"1\" class=\"dataframe\">\n",
       "  <thead>\n",
       "    <tr style=\"text-align: right;\">\n",
       "      <th></th>\n",
       "      <th>Name</th>\n",
       "      <th>City</th>\n",
       "      <th>Age</th>\n",
       "      <th>Test score</th>\n",
       "    </tr>\n",
       "  </thead>\n",
       "  <tbody>\n",
       "    <tr>\n",
       "      <th>id 001</th>\n",
       "      <td>Alexander</td>\n",
       "      <td>Moscow</td>\n",
       "      <td>29</td>\n",
       "      <td>20</td>\n",
       "    </tr>\n",
       "    <tr>\n",
       "      <th>id 002</th>\n",
       "      <td>Robert</td>\n",
       "      <td>New York</td>\n",
       "      <td>19</td>\n",
       "      <td>72</td>\n",
       "    </tr>\n",
       "    <tr>\n",
       "      <th>id 003</th>\n",
       "      <td>Cynthia</td>\n",
       "      <td>Paris</td>\n",
       "      <td>21</td>\n",
       "      <td>13</td>\n",
       "    </tr>\n",
       "    <tr>\n",
       "      <th>id 004</th>\n",
       "      <td>Jessica</td>\n",
       "      <td>Berlin</td>\n",
       "      <td>45</td>\n",
       "      <td>43</td>\n",
       "    </tr>\n",
       "    <tr>\n",
       "      <th>id 005</th>\n",
       "      <td>Alan</td>\n",
       "      <td>Tokyo</td>\n",
       "      <td>34</td>\n",
       "      <td>38</td>\n",
       "    </tr>\n",
       "    <tr>\n",
       "      <th>id 006</th>\n",
       "      <td>Danny</td>\n",
       "      <td>Berlin</td>\n",
       "      <td>34</td>\n",
       "      <td>34</td>\n",
       "    </tr>\n",
       "    <tr>\n",
       "      <th>id 007</th>\n",
       "      <td>Maria</td>\n",
       "      <td>Madrid</td>\n",
       "      <td>51</td>\n",
       "      <td>8</td>\n",
       "    </tr>\n",
       "    <tr>\n",
       "      <th>id 008</th>\n",
       "      <td>Karim</td>\n",
       "      <td>Tomsk</td>\n",
       "      <td>27</td>\n",
       "      <td>89</td>\n",
       "    </tr>\n",
       "  </tbody>\n",
       "</table>\n",
       "</div>"
      ],
      "text/plain": [
       "             Name      City  Age  Test score\n",
       "id 001  Alexander    Moscow   29          20\n",
       "id 002     Robert  New York   19          72\n",
       "id 003    Cynthia     Paris   21          13\n",
       "id 004    Jessica    Berlin   45          43\n",
       "id 005       Alan     Tokyo   34          38\n",
       "id 006      Danny    Berlin   34          34\n",
       "id 007      Maria    Madrid   51           8\n",
       "id 008      Karim     Tomsk   27          89"
      ]
     },
     "execution_count": 56,
     "metadata": {},
     "output_type": "execute_result"
    }
   ],
   "source": [
    "df"
   ]
  },
  {
   "cell_type": "code",
   "execution_count": 57,
   "id": "1ee51abf-f782-4cd5-a388-df6d2884f0b4",
   "metadata": {},
   "outputs": [
    {
     "data": {
      "text/plain": [
       "pandas.core.frame.DataFrame"
      ]
     },
     "execution_count": 57,
     "metadata": {},
     "output_type": "execute_result"
    }
   ],
   "source": [
    "type(df)"
   ]
  },
  {
   "cell_type": "code",
   "execution_count": 58,
   "id": "c7bbd2c5-55ac-44d8-8ced-bbfb49c0a7fc",
   "metadata": {},
   "outputs": [
    {
     "data": {
      "text/plain": [
       "Index(['id 001', 'id 002', 'id 003', 'id 004', 'id 005', 'id 006', 'id 007',\n",
       "       'id 008'],\n",
       "      dtype='object')"
      ]
     },
     "execution_count": 58,
     "metadata": {},
     "output_type": "execute_result"
    }
   ],
   "source": [
    "df.index"
   ]
  },
  {
   "cell_type": "code",
   "execution_count": 59,
   "id": "de9b88c7-39d9-4d61-8461-45f95af585bb",
   "metadata": {},
   "outputs": [
    {
     "data": {
      "text/plain": [
       "Index(['Name', 'City', 'Age', 'Test score'], dtype='object')"
      ]
     },
     "execution_count": 59,
     "metadata": {},
     "output_type": "execute_result"
    }
   ],
   "source": [
    "df.columns"
   ]
  },
  {
   "cell_type": "code",
   "execution_count": 60,
   "id": "9afcd14b-2916-4f84-969c-7fed6e5700dd",
   "metadata": {},
   "outputs": [
    {
     "data": {
      "text/plain": [
       "(pandas.core.indexes.base.Index, str, 'Age')"
      ]
     },
     "execution_count": 60,
     "metadata": {},
     "output_type": "execute_result"
    }
   ],
   "source": [
    "type(df.columns), type(df.columns[2]), df.columns[2]"
   ]
  },
  {
   "cell_type": "code",
   "execution_count": 61,
   "id": "4168dc7b-8ac9-440b-a7a7-8a8a485f4308",
   "metadata": {},
   "outputs": [
    {
     "name": "stdout",
     "output_type": "stream",
     "text": [
      "Name\n",
      "City\n",
      "Age\n",
      "Test score\n"
     ]
    }
   ],
   "source": [
    "for col in df.columns:\n",
    "    print(col)"
   ]
  },
  {
   "cell_type": "code",
   "execution_count": 62,
   "id": "90e39eee-ed59-4885-b515-c7e5287c313f",
   "metadata": {},
   "outputs": [
    {
     "data": {
      "text/html": [
       "<div>\n",
       "<style scoped>\n",
       "    .dataframe tbody tr th:only-of-type {\n",
       "        vertical-align: middle;\n",
       "    }\n",
       "\n",
       "    .dataframe tbody tr th {\n",
       "        vertical-align: top;\n",
       "    }\n",
       "\n",
       "    .dataframe thead th {\n",
       "        text-align: right;\n",
       "    }\n",
       "</style>\n",
       "<table border=\"1\" class=\"dataframe\">\n",
       "  <thead>\n",
       "    <tr style=\"text-align: right;\">\n",
       "      <th></th>\n",
       "      <th>Name</th>\n",
       "      <th>City</th>\n",
       "      <th>Age</th>\n",
       "      <th>Test score</th>\n",
       "    </tr>\n",
       "  </thead>\n",
       "  <tbody>\n",
       "    <tr>\n",
       "      <th>id 001</th>\n",
       "      <td>Alexander</td>\n",
       "      <td>Moscow</td>\n",
       "      <td>29</td>\n",
       "      <td>20</td>\n",
       "    </tr>\n",
       "    <tr>\n",
       "      <th>id 002</th>\n",
       "      <td>Robert</td>\n",
       "      <td>New York</td>\n",
       "      <td>19</td>\n",
       "      <td>72</td>\n",
       "    </tr>\n",
       "    <tr>\n",
       "      <th>id 003</th>\n",
       "      <td>Cynthia</td>\n",
       "      <td>Paris</td>\n",
       "      <td>21</td>\n",
       "      <td>13</td>\n",
       "    </tr>\n",
       "    <tr>\n",
       "      <th>id 004</th>\n",
       "      <td>Jessica</td>\n",
       "      <td>Berlin</td>\n",
       "      <td>45</td>\n",
       "      <td>43</td>\n",
       "    </tr>\n",
       "    <tr>\n",
       "      <th>id 005</th>\n",
       "      <td>Alan</td>\n",
       "      <td>Tokyo</td>\n",
       "      <td>34</td>\n",
       "      <td>38</td>\n",
       "    </tr>\n",
       "  </tbody>\n",
       "</table>\n",
       "</div>"
      ],
      "text/plain": [
       "             Name      City  Age  Test score\n",
       "id 001  Alexander    Moscow   29          20\n",
       "id 002     Robert  New York   19          72\n",
       "id 003    Cynthia     Paris   21          13\n",
       "id 004    Jessica    Berlin   45          43\n",
       "id 005       Alan     Tokyo   34          38"
      ]
     },
     "execution_count": 62,
     "metadata": {},
     "output_type": "execute_result"
    }
   ],
   "source": [
    "df.head()"
   ]
  },
  {
   "cell_type": "code",
   "execution_count": 63,
   "id": "fe673756-b8cd-4ba7-9574-39e6206c0c9d",
   "metadata": {},
   "outputs": [
    {
     "data": {
      "text/html": [
       "<div>\n",
       "<style scoped>\n",
       "    .dataframe tbody tr th:only-of-type {\n",
       "        vertical-align: middle;\n",
       "    }\n",
       "\n",
       "    .dataframe tbody tr th {\n",
       "        vertical-align: top;\n",
       "    }\n",
       "\n",
       "    .dataframe thead th {\n",
       "        text-align: right;\n",
       "    }\n",
       "</style>\n",
       "<table border=\"1\" class=\"dataframe\">\n",
       "  <thead>\n",
       "    <tr style=\"text-align: right;\">\n",
       "      <th></th>\n",
       "      <th>Name</th>\n",
       "      <th>City</th>\n",
       "      <th>Age</th>\n",
       "      <th>Test score</th>\n",
       "    </tr>\n",
       "  </thead>\n",
       "  <tbody>\n",
       "    <tr>\n",
       "      <th>id 004</th>\n",
       "      <td>Jessica</td>\n",
       "      <td>Berlin</td>\n",
       "      <td>45</td>\n",
       "      <td>43</td>\n",
       "    </tr>\n",
       "    <tr>\n",
       "      <th>id 005</th>\n",
       "      <td>Alan</td>\n",
       "      <td>Tokyo</td>\n",
       "      <td>34</td>\n",
       "      <td>38</td>\n",
       "    </tr>\n",
       "    <tr>\n",
       "      <th>id 006</th>\n",
       "      <td>Danny</td>\n",
       "      <td>Berlin</td>\n",
       "      <td>34</td>\n",
       "      <td>34</td>\n",
       "    </tr>\n",
       "    <tr>\n",
       "      <th>id 007</th>\n",
       "      <td>Maria</td>\n",
       "      <td>Madrid</td>\n",
       "      <td>51</td>\n",
       "      <td>8</td>\n",
       "    </tr>\n",
       "    <tr>\n",
       "      <th>id 008</th>\n",
       "      <td>Karim</td>\n",
       "      <td>Tomsk</td>\n",
       "      <td>27</td>\n",
       "      <td>89</td>\n",
       "    </tr>\n",
       "  </tbody>\n",
       "</table>\n",
       "</div>"
      ],
      "text/plain": [
       "           Name    City  Age  Test score\n",
       "id 004  Jessica  Berlin   45          43\n",
       "id 005     Alan   Tokyo   34          38\n",
       "id 006    Danny  Berlin   34          34\n",
       "id 007    Maria  Madrid   51           8\n",
       "id 008    Karim   Tomsk   27          89"
      ]
     },
     "execution_count": 63,
     "metadata": {},
     "output_type": "execute_result"
    }
   ],
   "source": [
    "df.tail()"
   ]
  },
  {
   "cell_type": "code",
   "execution_count": 64,
   "id": "11f03471-eb21-4898-9c9c-66ab26bc3cae",
   "metadata": {},
   "outputs": [
    {
     "data": {
      "text/html": [
       "<div>\n",
       "<style scoped>\n",
       "    .dataframe tbody tr th:only-of-type {\n",
       "        vertical-align: middle;\n",
       "    }\n",
       "\n",
       "    .dataframe tbody tr th {\n",
       "        vertical-align: top;\n",
       "    }\n",
       "\n",
       "    .dataframe thead th {\n",
       "        text-align: right;\n",
       "    }\n",
       "</style>\n",
       "<table border=\"1\" class=\"dataframe\">\n",
       "  <thead>\n",
       "    <tr style=\"text-align: right;\">\n",
       "      <th></th>\n",
       "      <th>Name</th>\n",
       "      <th>City</th>\n",
       "      <th>Age</th>\n",
       "      <th>Test score</th>\n",
       "    </tr>\n",
       "  </thead>\n",
       "  <tbody>\n",
       "    <tr>\n",
       "      <th>id 001</th>\n",
       "      <td>Alexander</td>\n",
       "      <td>Moscow</td>\n",
       "      <td>29</td>\n",
       "      <td>20</td>\n",
       "    </tr>\n",
       "    <tr>\n",
       "      <th>id 002</th>\n",
       "      <td>Robert</td>\n",
       "      <td>New York</td>\n",
       "      <td>19</td>\n",
       "      <td>72</td>\n",
       "    </tr>\n",
       "    <tr>\n",
       "      <th>id 003</th>\n",
       "      <td>Cynthia</td>\n",
       "      <td>Paris</td>\n",
       "      <td>21</td>\n",
       "      <td>13</td>\n",
       "    </tr>\n",
       "  </tbody>\n",
       "</table>\n",
       "</div>"
      ],
      "text/plain": [
       "             Name      City  Age  Test score\n",
       "id 001  Alexander    Moscow   29          20\n",
       "id 002     Robert  New York   19          72\n",
       "id 003    Cynthia     Paris   21          13"
      ]
     },
     "execution_count": 64,
     "metadata": {},
     "output_type": "execute_result"
    }
   ],
   "source": [
    "df.head(3)"
   ]
  },
  {
   "cell_type": "code",
   "execution_count": 65,
   "id": "2d9e0c3f-ac30-4e54-85a5-2dedc3cedd68",
   "metadata": {},
   "outputs": [
    {
     "data": {
      "text/html": [
       "<div>\n",
       "<style scoped>\n",
       "    .dataframe tbody tr th:only-of-type {\n",
       "        vertical-align: middle;\n",
       "    }\n",
       "\n",
       "    .dataframe tbody tr th {\n",
       "        vertical-align: top;\n",
       "    }\n",
       "\n",
       "    .dataframe thead th {\n",
       "        text-align: right;\n",
       "    }\n",
       "</style>\n",
       "<table border=\"1\" class=\"dataframe\">\n",
       "  <thead>\n",
       "    <tr style=\"text-align: right;\">\n",
       "      <th></th>\n",
       "      <th>Name</th>\n",
       "      <th>City</th>\n",
       "      <th>Age</th>\n",
       "      <th>Test score</th>\n",
       "    </tr>\n",
       "  </thead>\n",
       "  <tbody>\n",
       "    <tr>\n",
       "      <th>id 007</th>\n",
       "      <td>Maria</td>\n",
       "      <td>Madrid</td>\n",
       "      <td>51</td>\n",
       "      <td>8</td>\n",
       "    </tr>\n",
       "    <tr>\n",
       "      <th>id 008</th>\n",
       "      <td>Karim</td>\n",
       "      <td>Tomsk</td>\n",
       "      <td>27</td>\n",
       "      <td>89</td>\n",
       "    </tr>\n",
       "  </tbody>\n",
       "</table>\n",
       "</div>"
      ],
      "text/plain": [
       "         Name    City  Age  Test score\n",
       "id 007  Maria  Madrid   51           8\n",
       "id 008  Karim   Tomsk   27          89"
      ]
     },
     "execution_count": 65,
     "metadata": {},
     "output_type": "execute_result"
    }
   ],
   "source": [
    "df.tail(2)"
   ]
  }
 ],
 "metadata": {
  "kernelspec": {
   "display_name": "Python 3 (ipykernel)",
   "language": "python",
   "name": "python3"
  },
  "language_info": {
   "codemirror_mode": {
    "name": "ipython",
    "version": 3
   },
   "file_extension": ".py",
   "mimetype": "text/x-python",
   "name": "python",
   "nbconvert_exporter": "python",
   "pygments_lexer": "ipython3",
   "version": "3.13.2"
  }
 },
 "nbformat": 4,
 "nbformat_minor": 5
}
